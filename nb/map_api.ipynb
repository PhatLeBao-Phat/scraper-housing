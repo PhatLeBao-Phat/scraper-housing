{
 "cells": [
  {
   "cell_type": "code",
   "execution_count": null,
   "metadata": {},
   "outputs": [],
   "source": [
    "# Import\n",
    "import requests\n",
    "from configparser import ConfigParser\n",
    "import pandas as pd\n",
    "from typing import List, Object\n",
    "\n",
    "from ns_api import npi_res\n",
    "\n",
    "# class FinderWrapper:\n",
    "#     def __init__(self, finder):\n",
    "#         self.finder = finder\n",
    "\n",
    "#     def find_spec(self, fullname, path, target=None):\n",
    "#         print(f\"Finder {self.finder} checking for module: {fullname}, path: {path}\")\n",
    "#         return self.finder.find_spec(fullname, path, target)\n",
    "\n",
    "# Wrap all meta path finders\n",
    "# sys.meta_path = [FinderWrapper(finder) for finder in sys.meta_path]"
   ]
  },
  {
   "cell_type": "code",
   "execution_count": 48,
   "metadata": {},
   "outputs": [],
   "source": [
    "# Reload lib\n",
    "from importlib import reload\n",
    "\n",
    "npi_res = reload(npi_res)"
   ]
  },
  {
   "cell_type": "code",
   "execution_count": 3,
   "metadata": {},
   "outputs": [
    {
     "data": {
      "text/plain": [
       "['../config.cfg']"
      ]
     },
     "execution_count": 3,
     "metadata": {},
     "output_type": "execute_result"
    }
   ],
   "source": [
    "# Get secrets\n",
    "config = ConfigParser()\n",
    "config.read(\"../config.cfg\")"
   ]
  },
  {
   "cell_type": "code",
   "execution_count": 4,
   "metadata": {},
   "outputs": [
    {
     "name": "stdout",
     "output_type": "stream",
     "text": [
      "https://gateway.apiportal.ns.nl/nsapp-stations/v2\n"
     ]
    }
   ],
   "source": [
    "# Define the API endpoint and parameters\n",
    "subscription_key = config[\"ns-api-token\"][\"pri_key\"]\n",
    "headers = {\n",
    "    # Request headers\n",
    "    \"Ocp-Apim-Subscription-Key\": subscription_key,\n",
    "}\n",
    "lang = \"en\"\n",
    "originLat = 51.451472\n",
    "originLng = 5.473389\n",
    "destinationLat = 52.379389\n",
    "destinationLng = 4.899389\n",
    "originWalk = \"true\"\n",
    "originBike = \"true\"\n",
    "destinationWalk = \"true\"\n",
    "destinationBike = \"true\"\n",
    "\n",
    "# Trips API\n",
    "url = (\n",
    "    # f\"https://gateway.apiportal.ns.nl/reisinformatie-api/api/v3/trips\" +\n",
    "    # f\"https://gateway.apiportal.ns.nl/reisinformatie-api/api/v2/departures\" +\n",
    "    f\"https://gateway.apiportal.ns.nl/nsapp-stations/v2\"\n",
    "    +\n",
    "    # f\"?\" +\n",
    "    # f\"q={r'Eindhoven Cen'}\"\n",
    "    # f\"{lang}&\" +\n",
    "    # f\"{fromStation}&\" +\n",
    "    # f\"originLat={originLat}&\" +\n",
    "    # f\"originLng={originLng}&\" +\n",
    "    # f\"destinationLat={destinationLat}&\" +\n",
    "    # f\"destinationLng={destinationLng}&\" +\n",
    "    # f\"{lang}&\" +\n",
    "    # f\"{lang}&\" +\n",
    "    f\"\"\n",
    ")\n",
    "print(url)\n",
    "# Send the GET request\n",
    "response = requests.get(url, headers=headers)\n",
    "\n",
    "# Check if the request was successful\n",
    "if response.status_code in [200]:\n",
    "    data = response.json()  # Parse the JSON response\n",
    "    # print(data)  # Print the response data\n",
    "else:\n",
    "    print(f\"Error: {response.status_code}, {response.text}\")"
   ]
  },
  {
   "cell_type": "code",
   "execution_count": 49,
   "metadata": {},
   "outputs": [],
   "source": [
    "# Parsing\n",
    "stations = [npi_res.Station(stat_dict) for stat_dict in data[\"payload\"]]\n",
    "stations_df = pd.DataFrame(data[\"payload\"])"
   ]
  },
  {
   "cell_type": "code",
   "execution_count": null,
   "metadata": {},
   "outputs": [],
   "source": [
    "# Func \n",
    "def objects_to_dataframe(obj_lst : List[Object]) -> pd.DataFrame:\n",
    "    None"
   ]
  }
 ],
 "metadata": {
  "kernelspec": {
   "display_name": "env",
   "language": "python",
   "name": "python3"
  },
  "language_info": {
   "codemirror_mode": {
    "name": "ipython",
    "version": 3
   },
   "file_extension": ".py",
   "mimetype": "text/x-python",
   "name": "python",
   "nbconvert_exporter": "python",
   "pygments_lexer": "ipython3",
   "version": "3.10.12"
  }
 },
 "nbformat": 4,
 "nbformat_minor": 2
}
