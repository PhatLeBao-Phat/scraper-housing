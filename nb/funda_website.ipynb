{
 "cells": [
  {
   "cell_type": "code",
   "execution_count": 1,
   "metadata": {},
   "outputs": [],
   "source": [
    "import requests \n",
    "import pickle \n",
    "\n",
    "from funda_scraper.scrape import FundaScraper\n",
    "from bs4 import BeautifulSoup\n",
    "from selenium import webdriver\n",
    "from selenium.webdriver.chrome.options import Options\n",
    "from selenium.webdriver.common.by import By\n",
    "from http.cookiejar import Cookie, CookieJar"
   ]
  },
  {
   "cell_type": "code",
   "execution_count": 4,
   "metadata": {},
   "outputs": [],
   "source": [
    "# Cookie\n",
    "try:\n",
    "    with open(\"cookies.pkl\", \"rb\") as file:\n",
    "        cookies = pickle.load(file)\n",
    "\n",
    "    # Get cookie jar \n",
    "    session = requests.Session()\n",
    "    for cookie in cookies:\n",
    "        session.cookies.set(\n",
    "            cookie[\"name\"], \n",
    "            cookie[\"value\"], \n",
    "            domain=cookie[\"domain\"], \n",
    "            path=cookie[\"path\"])\n",
    "\n",
    "    r = session.get(\n",
    "        \"https://www.funda.nl/en/zoeken/huur?\" + \n",
    "        \"selected_area=[%22eindhoven%22]&price=%22500-2000%22\"\n",
    "    )\n",
    "    \n",
    "    html = BeautifulSoup(r.text)\n",
    "    html.find_all(\"script\", {\"type\" : \"application/json\"})\n",
    "\n",
    "except FileNotFoundError as e:\n",
    "    print(f\"File not found {e}\")\n"
   ]
  },
  {
   "cell_type": "code",
   "execution_count": 14,
   "metadata": {},
   "outputs": [],
   "source": [
    "import ast\n",
    "\n",
    "a = html.find_all(\"script\", {\"type\" : \"application/json\"})[1].text"
   ]
  },
  {
   "cell_type": "code",
   "execution_count": 25,
   "metadata": {},
   "outputs": [],
   "source": [
    "import json \n",
    "\n",
    "b = json.loads(html.find_all(\"script\", {\"type\" : \"application/json\"})[1].contents[0])"
   ]
  },
  {
   "cell_type": "code",
   "execution_count": null,
   "metadata": {},
   "outputs": [
    {
     "data": {
      "text/plain": [
       "{}"
      ]
     },
     "execution_count": 6,
     "metadata": {},
     "output_type": "execute_result"
    }
   ],
   "source": [
    "# Selenium\n",
    "chrome_options = Options()\n",
    "chrome_options.add_argument(\"--log-level=3\")\n",
    "# chrome_options.add_argument(\"--headless=new\")\n",
    "driver = webdriver.Chrome(options=chrome_options)\n",
    "url = (\n",
    "    \"https://www.funda.nl/en/zoeken/huur?\" + \n",
    "    \"selected_area=[%22eindhoven%22]&price=%22500-2000%22\"\n",
    ")\n",
    "driver.get(url)\n",
    "driver.execute_cdp_cmd(\"Network.setCookies\", {\"cookies\": cookies})    \n",
    "\n",
    "# Save cookies after solving CAPTCHA\n",
    "with open(\"cookies.pkl\", \"wb\") as file:\n",
    "    pickle.dump(driver.get_cookies(), file)"
   ]
  },
  {
   "cell_type": "code",
   "execution_count": 5,
   "metadata": {},
   "outputs": [
    {
     "name": "stderr",
     "output_type": "stream",
     "text": [
      "*** Phase 1: Fetch all the available links from all pages *** \n",
      "*** Main URL: https://www.funda.nl/en/zoeken/huur?selected_area=%5B%22eindhoven%22%5D&price=%22500-2000%22 ***\n",
      "100%|██████████| 1/1 [00:00<00:00,  1.51it/s]\n",
      "*** Got all the urls. 15 houses found from 1 to 1 ***\n",
      "*** Phase 2: Start scraping from individual links ***\n"
     ]
    },
    {
     "data": {
      "application/vnd.jupyter.widget-view+json": {
       "model_id": "c147b48c8a4248299c2f846d3afe9a36",
       "version_major": 2,
       "version_minor": 0
      },
      "text/plain": [
       "  0%|          | 0/15 [00:00<?, ?it/s]"
      ]
     },
     "metadata": {},
     "output_type": "display_data"
    },
    {
     "name": "stderr",
     "output_type": "stream",
     "text": [
      "*** All scraping done: 15 results ***\n",
      "*** Cleaning data ***\n",
      "*** Done! ***\n"
     ]
    },
    {
     "name": "stdout",
     "output_type": "stream",
     "text": [
      "Damn this thing sucks and is full of bugs list index out of range\n"
     ]
    },
    {
     "data": {
      "text/html": [
       "<div>\n",
       "<style scoped>\n",
       "    .dataframe tbody tr th:only-of-type {\n",
       "        vertical-align: middle;\n",
       "    }\n",
       "\n",
       "    .dataframe tbody tr th {\n",
       "        vertical-align: top;\n",
       "    }\n",
       "\n",
       "    .dataframe thead th {\n",
       "        text-align: right;\n",
       "    }\n",
       "</style>\n",
       "<table border=\"1\" class=\"dataframe\">\n",
       "  <thead>\n",
       "    <tr style=\"text-align: right;\">\n",
       "      <th></th>\n",
       "      <th>url</th>\n",
       "      <th>house_id</th>\n",
       "      <th>city</th>\n",
       "      <th>house_type</th>\n",
       "      <th>building_type</th>\n",
       "      <th>price</th>\n",
       "      <th>price_m2</th>\n",
       "      <th>room</th>\n",
       "      <th>bedroom</th>\n",
       "      <th>bathroom</th>\n",
       "      <th>living_area</th>\n",
       "      <th>energy_label</th>\n",
       "      <th>zip</th>\n",
       "      <th>address</th>\n",
       "      <th>year_built</th>\n",
       "      <th>house_age</th>\n",
       "      <th>descrip</th>\n",
       "      <th>photo</th>\n",
       "    </tr>\n",
       "  </thead>\n",
       "  <tbody>\n",
       "  </tbody>\n",
       "</table>\n",
       "</div>"
      ],
      "text/plain": [
       "Empty DataFrame\n",
       "Columns: [url, house_id, city, house_type, building_type, price, price_m2, room, bedroom, bathroom, living_area, energy_label, zip, address, year_built, house_age, descrip, photo]\n",
       "Index: []"
      ]
     },
     "execution_count": 5,
     "metadata": {},
     "output_type": "execute_result"
    }
   ],
   "source": [
    "# Scraper Funda\n",
    "scraper = FundaScraper(\n",
    "    area=\"Eindhoven\", \n",
    "    want_to=\"rent\", \n",
    "    find_past=False, \n",
    "    page_start=1, \n",
    "    # n_pages=3, \n",
    "    min_price=500, \n",
    "    max_price=2000\n",
    ")\n",
    "df = scraper.run(raw_data=False)\n",
    "df.head()"
   ]
  },
  {
   "cell_type": "code",
   "execution_count": 7,
   "metadata": {},
   "outputs": [
    {
     "data": {
      "text/plain": [
       "['https://www.funda.nl/detail/huur/eindhoven/appartement-cassandraplein-5-18/89233315/',\n",
       " 'na',\n",
       " 'na',\n",
       " 'na',\n",
       " 'na',\n",
       " 'na',\n",
       " 'na',\n",
       " 'na',\n",
       " 'na',\n",
       " 'na',\n",
       " 'na',\n",
       " 'na',\n",
       " 'na',\n",
       " 'na',\n",
       " 'na',\n",
       " 'na',\n",
       " 'na',\n",
       " 'na',\n",
       " 'na',\n",
       " 'na',\n",
       " 'na',\n",
       " '€ 1.500 per maand (exclusief servicekosten à € 500,00 /mnd)',\n",
       " '€ 3.000 eenmalig',\n",
       " 'Tijdelijke verhuur',\n",
       " 'na',\n",
       " 'na',\n",
       " 'na',\n",
       " '']"
      ]
     },
     "execution_count": 7,
     "metadata": {},
     "output_type": "execute_result"
    }
   ],
   "source": [
    "scraper.scrape_one_link(\"https://www.funda.nl/detail/huur/eindhoven/appartement-cassandraplein-5-18/89233315/\")"
   ]
  }
 ],
 "metadata": {
  "kernelspec": {
   "display_name": "env",
   "language": "python",
   "name": "python3"
  },
  "language_info": {
   "codemirror_mode": {
    "name": "ipython",
    "version": 3
   },
   "file_extension": ".py",
   "mimetype": "text/x-python",
   "name": "python",
   "nbconvert_exporter": "python",
   "pygments_lexer": "ipython3",
   "version": "3.10.12"
  }
 },
 "nbformat": 4,
 "nbformat_minor": 2
}
