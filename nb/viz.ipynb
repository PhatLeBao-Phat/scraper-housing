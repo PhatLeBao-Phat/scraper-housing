{
 "cells": [
  {
   "cell_type": "code",
   "execution_count": 1,
   "metadata": {},
   "outputs": [],
   "source": [
    "# Import\n",
    "import pandas as pd\n",
    "import seaborn as sns\n",
    "import re\n",
    "import matplotlib.pyplot as plt\n",
    "import sys \n",
    "import pathlib\n",
    "import importlib\n",
    "import os\n",
    "\n",
    "os.chdir(str(pathlib.Path.cwd().parent))\n",
    "\n",
    "import scraper\n",
    "scraper = importlib.reload(scraper)"
   ]
  },
  {
   "cell_type": "code",
   "execution_count": null,
   "metadata": {},
   "outputs": [],
   "source": [
    "# viz \n",
    "df = pd.read_pickle(\"outputs/all_listings.pkl\")\n",
    "df[\"rent_FLOAT\"] = df[\"rent\"].map(lambda val : float(re.search(r\"[\\d,.]*\", val)[0].replace(\",\", \"\")))\n",
    "df[\"size_INT\"] = df[\"size\"].map(lambda val : int(val.replace(\" m2\", \"\")) if val else None)\n",
    "df[\"city\"] = df[\"location\"].map(\n",
    "    lambda val : re.search(r',\\s*(.*)', val).group(1) if re.search(r',\\s*(.*)', val) else None)"
   ]
  },
  {
   "cell_type": "code",
   "execution_count": 2,
   "metadata": {},
   "outputs": [],
   "source": [
    "desc_df = pd.read_pickle(\"outputs/all_listings_.pkl\")"
   ]
  },
  {
   "cell_type": "code",
   "execution_count": 3,
   "metadata": {},
   "outputs": [
    {
     "data": {
      "text/html": [
       "<div>\n",
       "<style scoped>\n",
       "    .dataframe tbody tr th:only-of-type {\n",
       "        vertical-align: middle;\n",
       "    }\n",
       "\n",
       "    .dataframe tbody tr th {\n",
       "        vertical-align: top;\n",
       "    }\n",
       "\n",
       "    .dataframe thead th {\n",
       "        text-align: right;\n",
       "    }\n",
       "</style>\n",
       "<table border=\"1\" class=\"dataframe\">\n",
       "  <thead>\n",
       "    <tr style=\"text-align: right;\">\n",
       "      <th></th>\n",
       "      <th>link</th>\n",
       "      <th>rent</th>\n",
       "      <th>size</th>\n",
       "      <th>property_type</th>\n",
       "      <th>location</th>\n",
       "      <th>title</th>\n",
       "      <th>street</th>\n",
       "      <th>description</th>\n",
       "      <th>seo</th>\n",
       "    </tr>\n",
       "  </thead>\n",
       "  <tbody>\n",
       "    <tr>\n",
       "      <th>0</th>\n",
       "      <td>/rooms/amsterdam-zuideramstel/8524586</td>\n",
       "      <td>1,200 EUR</td>\n",
       "      <td>15 m2</td>\n",
       "      <td>room</td>\n",
       "      <td>Amsterdam Zuideramstel, Amsterdam</td>\n",
       "      <td>\\r\\n            Room for rent, Amsterdam Zuide...</td>\n",
       "      <td>See streetname[xxxxxxxxxxxxx], Amsterdam Zuide...</td>\n",
       "      <td>\\r\\n\\r\\n        It's a Room in a shared appart...</td>\n",
       "      <td>\\nInformation and data\\n\\nThis room for rent, ...</td>\n",
       "    </tr>\n",
       "    <tr>\n",
       "      <th>1</th>\n",
       "      <td>/apartments/amsterdam-westpoort/12509021</td>\n",
       "      <td>2,500 EUR</td>\n",
       "      <td>44 m2</td>\n",
       "      <td>apartment</td>\n",
       "      <td>Amsterdam Westpoort, Amsterdam</td>\n",
       "      <td>\\r\\n            Apartment for rent, Amsterdam ...</td>\n",
       "      <td>See streetname[xxxxxxxxxxxxx], Amsterdam Westp...</td>\n",
       "      <td>\\r\\n\\r\\n        For Rent: Beautiful New 44 m2 ...</td>\n",
       "      <td>\\nInformation and data\\n\\nThis apartment for r...</td>\n",
       "    </tr>\n",
       "    <tr>\n",
       "      <th>2</th>\n",
       "      <td>/rooms/amsterdam-amsterdam-zuidoost/12475024</td>\n",
       "      <td>850 EUR</td>\n",
       "      <td>None</td>\n",
       "      <td>Room</td>\n",
       "      <td>Amsterdam Amsterdam-Zuidoost, Amsterdam</td>\n",
       "      <td>\\r\\n            Room for rent, Amsterdam Amste...</td>\n",
       "      <td>See streetname[xxxxxxxxxxxxx], Amsterdam Amste...</td>\n",
       "      <td>\\r\\n\\r\\n        Room Available to rent Immidia...</td>\n",
       "      <td>\\nInformation and data\\n\\nThis room for rent, ...</td>\n",
       "    </tr>\n",
       "    <tr>\n",
       "      <th>3</th>\n",
       "      <td>/apartments/amsterdam-centrum/12420623</td>\n",
       "      <td>3,100 EUR</td>\n",
       "      <td>85 m2</td>\n",
       "      <td>apartment</td>\n",
       "      <td>Amsterdam Centrum, Amsterdam</td>\n",
       "      <td>\\r\\n            Apartment for rent, Amsterdam ...</td>\n",
       "      <td>See streetname[xxxxxxxxxxxxx], Amsterdam Centrum</td>\n",
       "      <td>\\r\\n\\r\\n        Fantastic fully furnished apar...</td>\n",
       "      <td>\\nInformation and data\\n\\nThis apartment for r...</td>\n",
       "    </tr>\n",
       "    <tr>\n",
       "      <th>4</th>\n",
       "      <td>/apartments/amsterdam-centrum/7892233</td>\n",
       "      <td>1,000 EUR</td>\n",
       "      <td>50 m2</td>\n",
       "      <td>apartment</td>\n",
       "      <td>Amsterdam Centrum, Amsterdam</td>\n",
       "      <td>\\r\\n            Apartment for rent, Amsterdam ...</td>\n",
       "      <td>See streetname[xxxxxxxxxxxxx], Amsterdam Centrum</td>\n",
       "      <td>\\r\\n\\r\\n        Located in a very central posi...</td>\n",
       "      <td>\\nInformation and data\\n\\nThis apartment for r...</td>\n",
       "    </tr>\n",
       "    <tr>\n",
       "      <th>...</th>\n",
       "      <td>...</td>\n",
       "      <td>...</td>\n",
       "      <td>...</td>\n",
       "      <td>...</td>\n",
       "      <td>...</td>\n",
       "      <td>...</td>\n",
       "      <td>...</td>\n",
       "      <td>...</td>\n",
       "      <td>...</td>\n",
       "    </tr>\n",
       "    <tr>\n",
       "      <th>13</th>\n",
       "      <td>/houses/eindhoven/12284554</td>\n",
       "      <td>2,475 EUR</td>\n",
       "      <td>115 m2</td>\n",
       "      <td>house</td>\n",
       "      <td>Eindhoven, North Brabant</td>\n",
       "      <td>\\r\\n            House for rent, Eindhoven, Nor...</td>\n",
       "      <td>See streetname[xxxxxxxxxxxxx], Eindhoven</td>\n",
       "      <td>\\r\\n\\r\\n        House for rent in Eindhoven, N...</td>\n",
       "      <td>\\nInformation and data\\n\\nThis house for rent ...</td>\n",
       "    </tr>\n",
       "    <tr>\n",
       "      <th>14</th>\n",
       "      <td>/houses/eindhoven/12269772</td>\n",
       "      <td>1,895 EUR</td>\n",
       "      <td>167 m2</td>\n",
       "      <td>house</td>\n",
       "      <td>Eindhoven, North Brabant</td>\n",
       "      <td>\\r\\n            House for rent, Eindhoven, Nor...</td>\n",
       "      <td>See streetname[xxxxxxxxxxxxx], Eindhoven</td>\n",
       "      <td>\\r\\n\\r\\n        House for rent in Eindhoven, N...</td>\n",
       "      <td>\\nInformation and data\\n\\nThis house for rent ...</td>\n",
       "    </tr>\n",
       "    <tr>\n",
       "      <th>15</th>\n",
       "      <td>/apartments/eindhoven/12279927</td>\n",
       "      <td>1,900 EUR</td>\n",
       "      <td>84 m2</td>\n",
       "      <td>apartment</td>\n",
       "      <td>Eindhoven, North Brabant</td>\n",
       "      <td>\\r\\n            Apartment for rent, Eindhoven,...</td>\n",
       "      <td>See streetname[xxxxxxxxxxxxx], Eindhoven</td>\n",
       "      <td>\\r\\n\\r\\n        Apartment for rent in Eindhove...</td>\n",
       "      <td>\\nInformation and data\\n\\nThis apartment for r...</td>\n",
       "    </tr>\n",
       "    <tr>\n",
       "      <th>16</th>\n",
       "      <td>/apartments/eindhoven/11836853</td>\n",
       "      <td>900 EUR</td>\n",
       "      <td>11 m2</td>\n",
       "      <td>apartment</td>\n",
       "      <td>Eindhoven, North Brabant</td>\n",
       "      <td>\\r\\n            Apartment for rent, Eindhoven,...</td>\n",
       "      <td>See streetname[xxxxxxxxxxxxx], Eindhoven</td>\n",
       "      <td>\\r\\n\\r\\n        Apartment for rent in Eindhove...</td>\n",
       "      <td>\\nInformation and data\\n\\nThis apartment for r...</td>\n",
       "    </tr>\n",
       "    <tr>\n",
       "      <th>17</th>\n",
       "      <td>/apartments/eindhoven/10746356</td>\n",
       "      <td>900 EUR</td>\n",
       "      <td>6 m2</td>\n",
       "      <td>apartment</td>\n",
       "      <td>Eindhoven, North Brabant</td>\n",
       "      <td>\\r\\n            Apartment for rent, Eindhoven,...</td>\n",
       "      <td>See streetname[xxxxxxxxxxxxx], Eindhoven</td>\n",
       "      <td>\\r\\n\\r\\n        Apartment for rent in Eindhove...</td>\n",
       "      <td>\\nInformation and data\\n\\nThis apartment for r...</td>\n",
       "    </tr>\n",
       "  </tbody>\n",
       "</table>\n",
       "<p>812 rows × 9 columns</p>\n",
       "</div>"
      ],
      "text/plain": [
       "                                            link       rent    size  \\\n",
       "0          /rooms/amsterdam-zuideramstel/8524586  1,200 EUR   15 m2   \n",
       "1       /apartments/amsterdam-westpoort/12509021  2,500 EUR   44 m2   \n",
       "2   /rooms/amsterdam-amsterdam-zuidoost/12475024    850 EUR    None   \n",
       "3         /apartments/amsterdam-centrum/12420623  3,100 EUR   85 m2   \n",
       "4          /apartments/amsterdam-centrum/7892233  1,000 EUR   50 m2   \n",
       "..                                           ...        ...     ...   \n",
       "13                    /houses/eindhoven/12284554  2,475 EUR  115 m2   \n",
       "14                    /houses/eindhoven/12269772  1,895 EUR  167 m2   \n",
       "15                /apartments/eindhoven/12279927  1,900 EUR   84 m2   \n",
       "16                /apartments/eindhoven/11836853    900 EUR   11 m2   \n",
       "17                /apartments/eindhoven/10746356    900 EUR    6 m2   \n",
       "\n",
       "   property_type                                 location  \\\n",
       "0           room        Amsterdam Zuideramstel, Amsterdam   \n",
       "1      apartment           Amsterdam Westpoort, Amsterdam   \n",
       "2           Room  Amsterdam Amsterdam-Zuidoost, Amsterdam   \n",
       "3      apartment             Amsterdam Centrum, Amsterdam   \n",
       "4      apartment             Amsterdam Centrum, Amsterdam   \n",
       "..           ...                                      ...   \n",
       "13         house                 Eindhoven, North Brabant   \n",
       "14         house                 Eindhoven, North Brabant   \n",
       "15     apartment                 Eindhoven, North Brabant   \n",
       "16     apartment                 Eindhoven, North Brabant   \n",
       "17     apartment                 Eindhoven, North Brabant   \n",
       "\n",
       "                                                title  \\\n",
       "0   \\r\\n            Room for rent, Amsterdam Zuide...   \n",
       "1   \\r\\n            Apartment for rent, Amsterdam ...   \n",
       "2   \\r\\n            Room for rent, Amsterdam Amste...   \n",
       "3   \\r\\n            Apartment for rent, Amsterdam ...   \n",
       "4   \\r\\n            Apartment for rent, Amsterdam ...   \n",
       "..                                                ...   \n",
       "13  \\r\\n            House for rent, Eindhoven, Nor...   \n",
       "14  \\r\\n            House for rent, Eindhoven, Nor...   \n",
       "15  \\r\\n            Apartment for rent, Eindhoven,...   \n",
       "16  \\r\\n            Apartment for rent, Eindhoven,...   \n",
       "17  \\r\\n            Apartment for rent, Eindhoven,...   \n",
       "\n",
       "                                               street  \\\n",
       "0   See streetname[xxxxxxxxxxxxx], Amsterdam Zuide...   \n",
       "1   See streetname[xxxxxxxxxxxxx], Amsterdam Westp...   \n",
       "2   See streetname[xxxxxxxxxxxxx], Amsterdam Amste...   \n",
       "3    See streetname[xxxxxxxxxxxxx], Amsterdam Centrum   \n",
       "4    See streetname[xxxxxxxxxxxxx], Amsterdam Centrum   \n",
       "..                                                ...   \n",
       "13           See streetname[xxxxxxxxxxxxx], Eindhoven   \n",
       "14           See streetname[xxxxxxxxxxxxx], Eindhoven   \n",
       "15           See streetname[xxxxxxxxxxxxx], Eindhoven   \n",
       "16           See streetname[xxxxxxxxxxxxx], Eindhoven   \n",
       "17           See streetname[xxxxxxxxxxxxx], Eindhoven   \n",
       "\n",
       "                                          description  \\\n",
       "0   \\r\\n\\r\\n        It's a Room in a shared appart...   \n",
       "1   \\r\\n\\r\\n        For Rent: Beautiful New 44 m2 ...   \n",
       "2   \\r\\n\\r\\n        Room Available to rent Immidia...   \n",
       "3   \\r\\n\\r\\n        Fantastic fully furnished apar...   \n",
       "4   \\r\\n\\r\\n        Located in a very central posi...   \n",
       "..                                                ...   \n",
       "13  \\r\\n\\r\\n        House for rent in Eindhoven, N...   \n",
       "14  \\r\\n\\r\\n        House for rent in Eindhoven, N...   \n",
       "15  \\r\\n\\r\\n        Apartment for rent in Eindhove...   \n",
       "16  \\r\\n\\r\\n        Apartment for rent in Eindhove...   \n",
       "17  \\r\\n\\r\\n        Apartment for rent in Eindhove...   \n",
       "\n",
       "                                                  seo  \n",
       "0   \\nInformation and data\\n\\nThis room for rent, ...  \n",
       "1   \\nInformation and data\\n\\nThis apartment for r...  \n",
       "2   \\nInformation and data\\n\\nThis room for rent, ...  \n",
       "3   \\nInformation and data\\n\\nThis apartment for r...  \n",
       "4   \\nInformation and data\\n\\nThis apartment for r...  \n",
       "..                                                ...  \n",
       "13  \\nInformation and data\\n\\nThis house for rent ...  \n",
       "14  \\nInformation and data\\n\\nThis house for rent ...  \n",
       "15  \\nInformation and data\\n\\nThis apartment for r...  \n",
       "16  \\nInformation and data\\n\\nThis apartment for r...  \n",
       "17  \\nInformation and data\\n\\nThis apartment for r...  \n",
       "\n",
       "[812 rows x 9 columns]"
      ]
     },
     "execution_count": 3,
     "metadata": {},
     "output_type": "execute_result"
    }
   ],
   "source": [
    "desc_df"
   ]
  },
  {
   "cell_type": "code",
   "execution_count": 87,
   "metadata": {},
   "outputs": [
    {
     "name": "stderr",
     "output_type": "stream",
     "text": [
      "c:\\Users\\PC\\anaconda3\\envs\\env\\lib\\site-packages\\seaborn\\_oldcore.py:1498: FutureWarning: is_categorical_dtype is deprecated and will be removed in a future version. Use isinstance(dtype, CategoricalDtype) instead\n",
      "  if pd.api.types.is_categorical_dtype(vector):\n",
      "c:\\Users\\PC\\anaconda3\\envs\\env\\lib\\site-packages\\seaborn\\_oldcore.py:1498: FutureWarning: is_categorical_dtype is deprecated and will be removed in a future version. Use isinstance(dtype, CategoricalDtype) instead\n",
      "  if pd.api.types.is_categorical_dtype(vector):\n",
      "c:\\Users\\PC\\anaconda3\\envs\\env\\lib\\site-packages\\seaborn\\_oldcore.py:1498: FutureWarning: is_categorical_dtype is deprecated and will be removed in a future version. Use isinstance(dtype, CategoricalDtype) instead\n",
      "  if pd.api.types.is_categorical_dtype(vector):\n",
      "c:\\Users\\PC\\anaconda3\\envs\\env\\lib\\site-packages\\seaborn\\_oldcore.py:1498: FutureWarning: is_categorical_dtype is deprecated and will be removed in a future version. Use isinstance(dtype, CategoricalDtype) instead\n",
      "  if pd.api.types.is_categorical_dtype(vector):\n",
      "c:\\Users\\PC\\anaconda3\\envs\\env\\lib\\site-packages\\seaborn\\_oldcore.py:1498: FutureWarning: is_categorical_dtype is deprecated and will be removed in a future version. Use isinstance(dtype, CategoricalDtype) instead\n",
      "  if pd.api.types.is_categorical_dtype(vector):\n",
      "c:\\Users\\PC\\anaconda3\\envs\\env\\lib\\site-packages\\seaborn\\_oldcore.py:1498: FutureWarning: is_categorical_dtype is deprecated and will be removed in a future version. Use isinstance(dtype, CategoricalDtype) instead\n",
      "  if pd.api.types.is_categorical_dtype(vector):\n",
      "c:\\Users\\PC\\anaconda3\\envs\\env\\lib\\site-packages\\seaborn\\_oldcore.py:1498: FutureWarning: is_categorical_dtype is deprecated and will be removed in a future version. Use isinstance(dtype, CategoricalDtype) instead\n",
      "  if pd.api.types.is_categorical_dtype(vector):\n",
      "c:\\Users\\PC\\anaconda3\\envs\\env\\lib\\site-packages\\seaborn\\_oldcore.py:1498: FutureWarning: is_categorical_dtype is deprecated and will be removed in a future version. Use isinstance(dtype, CategoricalDtype) instead\n",
      "  if pd.api.types.is_categorical_dtype(vector):\n",
      "c:\\Users\\PC\\anaconda3\\envs\\env\\lib\\site-packages\\seaborn\\_oldcore.py:1498: FutureWarning: is_categorical_dtype is deprecated and will be removed in a future version. Use isinstance(dtype, CategoricalDtype) instead\n",
      "  if pd.api.types.is_categorical_dtype(vector):\n",
      "c:\\Users\\PC\\anaconda3\\envs\\env\\lib\\site-packages\\seaborn\\_oldcore.py:1498: FutureWarning: is_categorical_dtype is deprecated and will be removed in a future version. Use isinstance(dtype, CategoricalDtype) instead\n",
      "  if pd.api.types.is_categorical_dtype(vector):\n"
     ]
    },
    {
     "data": {
      "image/png": "[encoded data removed]",
      "text/plain": [
       "<Figure size 1000x1200 with 2 Axes>"
      ]
     },
     "metadata": {},
     "output_type": "display_data"
    }
   ],
   "source": [
    "import matplotlib.pyplot as plt\n",
    "import seaborn as sns\n",
    "import numpy as np\n",
    "\n",
    "plt.figure(figsize=(10, 12))\n",
    "\n",
    "# First scatter plot\n",
    "plt.subplot(2, 1, 1)\n",
    "sns.scatterplot(data=df, \n",
    "                x=\"rent_FLOAT\", \n",
    "                y=\"size_INT\", \n",
    "                hue=\"property_type\", \n",
    "                palette=\"Set1\", \n",
    "                alpha=0.5)\n",
    "plt.xlim(0, 10000)\n",
    "plt.ylim(0, 400)\n",
    "plt.xticks(np.arange(0, 10001, 500))  # X-axis tick every 500\n",
    "plt.yticks(np.arange(0, 401, 25))     # Y-axis tick every 50\n",
    "plt.grid(True, linestyle='--', linewidth=0.6, alpha=0.7)\n",
    "plt.xlabel('Monthly Rent (€)')\n",
    "plt.ylabel('Property Size (m²)')\n",
    "plt.title('Scatter Plot by Property Type')\n",
    "\n",
    "# Second scatter plot\n",
    "plt.subplot(2, 1, 2)\n",
    "sns.scatterplot(data=df, \n",
    "                x=\"rent_FLOAT\", \n",
    "                y=\"size_INT\", \n",
    "                hue=\"city\", \n",
    "                palette=\"Set1\", \n",
    "                alpha=0.5)\n",
    "plt.xlim(0, 10000)\n",
    "plt.ylim(0, 400)\n",
    "plt.xticks(np.arange(0, 10001, 500))  # X-axis tick every 500\n",
    "plt.yticks(np.arange(0, 401, 25))     # Y-axis tick every 50\n",
    "plt.grid(True, linestyle='--', linewidth=0.6, alpha=0.7)\n",
    "plt.xlabel('Monthly Rent (€)')\n",
    "plt.ylabel('Property Size (m²)')\n",
    "plt.title('Scatter Plot by Location')\n",
    "\n",
    "plt.tight_layout()\n",
    "plt.show()"
   ]
  },
  {
   "cell_type": "code",
   "execution_count": 113,
   "metadata": {},
   "outputs": [
    {
     "data": {
      "application/vnd.plotly.v1+json": {
       "config": {
        "plotlyServerURL": "https://plot.ly"
       },
       "data": [
        {
         "customdata": [
          [
           "Amsterdam",
           "room"
          ],
          [
           "Amsterdam",
           "room"
          ],
          [
           "Amsterdam",
           "room"
          ],
          [
           "Amsterdam",
           "room"
          ],
          [
           "Amsterdam",
           "room"
          ],
          [
           "Amsterdam",
           "room"
          ],
          [
           "Amsterdam",
           "room"
          ],
          [
           "Amsterdam",
           "room"
          ],
          [
           "Amsterdam",
           "room"
          ],
          [
           "Amsterdam",
           "room"
          ],
          [
           "Amsterdam",
           "room"
          ]
         ],
         "hovertemplate": "property_type=%{customdata[1]}<br>city=%{customdata[0]}<br>rent_FLOAT=%{x}<br>size_INT=%{y}<extra></extra>",
         "legendgroup": "room, Amsterdam",
         "marker": {
          "color": "rgb(228,26,28)",
          "opacity": 0.5,
          "size": 4,
          "symbol": "circle"
         },
         "mode": "markers",
         "name": "room, Amsterdam",
         "orientation": "v",
         "showlegend": true,
         "type": "scatter",
         "x": [
          1200,
          1999,
          1999,
          1950,
          875,
          1100,
          654,
          925,
          891,
          765,
          795
         ],
         "xaxis": "x",
         "y": [
          15,
          21,
          21,
          21,
          15,
          25,
          14,
          25,
          21,
          23,
          20
         ],
         "yaxis": "y"
        },
        {
         "customdata": [
          [
           "Utrecht",
           "room"
          ],
          [
           "Utrecht",
           "room"
          ],
          [
           "Utrecht",
           "room"
          ],
          [
           "Utrecht",
           "room"
          ]
         ],
         "hovertemplate": "property_type=%{customdata[1]}<br>city=%{customdata[0]}<br>rent_FLOAT=%{x}<br>size_INT=%{y}<extra></extra>",
         "legendgroup": "room, Utrecht",
         "marker": {
          "color": "rgb(228,26,28)",
          "opacity": 0.5,
          "size": 4,
          "symbol": "square"
         },
         "mode": "markers",
         "name": "room, Utrecht",
         "orientation": "v",
         "showlegend": true,
         "type": "scatter",
         "x": [
          650,
          600,
          710,
          605
         ],
         "xaxis": "x",
         "y": [
          8,
          11,
          30,
          19
         ],
         "yaxis": "y"
        },
        {
         "customdata": [
          [
           "North Brabant",
           "room"
          ],
          [
           "North Brabant",
           "room"
          ],
          [
           "North Brabant",
           "room"
          ]
         ],
         "hovertemplate": "property_type=%{customdata[1]}<br>city=%{customdata[0]}<br>rent_FLOAT=%{x}<br>size_INT=%{y}<extra></extra>",
         "legendgroup": "room, North Brabant",
         "marker": {
          "color": "rgb(228,26,28)",
          "opacity": 0.5,
          "size": 4,
          "symbol": "x"
         },
         "mode": "markers",
         "name": "room, North Brabant",
         "orientation": "v",
         "showlegend": true,
         "type": "scatter",
         "x": [
          432,
          450,
          495
         ],
         "xaxis": "x",
         "y": [
          334,
          12,
          16
         ],
         "yaxis": "y"
        },
        {
         "customdata": [
          [
           "Amsterdam",
           "apartment"
          ],
          [
           "Amsterdam",
           "apartment"
          ],
          [
           "Amsterdam",
           "apartment"
          ],
          [
           "Amsterdam",
           "apartment"
          ],
          [
           "Amsterdam",
           "apartment"
          ],
          [
           "Amsterdam",
           "apartment"
          ],
          [
           "Amsterdam",
           "apartment"
          ],
          [
           "Amsterdam",
           "apartment"
          ],
          [
           "Amsterdam",
           "apartment"
          ],
          [
           "Amsterdam",
           "apartment"
          ],
          [
           "Amsterdam",
           "apartment"
          ],
          [
           "Amsterdam",
           "apartment"
          ],
          [
           "Amsterdam",
           "apartment"
          ],
          [
           "Amsterdam",
           "apartment"
          ],
          [
           "Amsterdam",
           "apartment"
          ],
          [
           "Amsterdam",
           "apartment"
          ],
          [
           "Amsterdam",
           "apartment"
          ],
          [
           "Amsterdam",
           "apartment"
          ],
          [
           "Amsterdam",
           "apartment"
          ],
          [
           "Amsterdam",
           "apartment"
          ],
          [
           "Amsterdam",
           "apartment"
          ],
          [
           "Amsterdam",
           "apartment"
          ],
          [
           "Amsterdam",
           "apartment"
          ],
          [
           "Amsterdam",
           "apartment"
          ],
          [
           "Amsterdam",
           "apartment"
          ],
          [
           "Amsterdam",
           "apartment"
          ],
          [
           "Amsterdam",
           "apartment"
          ],
          [
           "Amsterdam",
           "apartment"
          ],
          [
           "Amsterdam",
           "apartment"
          ],
          [
           "Amsterdam",
           "apartment"
          ],
          [
           "Amsterdam",
           "apartment"
          ],
          [
           "Amsterdam",
           "apartment"
          ],
          [
           "Amsterdam",
           "apartment"
          ],
          [
           "Amsterdam",
           "apartment"
          ],
          [
           "Amsterdam",
           "apartment"
          ],
          [
           "Amsterdam",
           "apartment"
          ],
          [
           "Amsterdam",
           "apartment"
          ],
          [
           "Amsterdam",
           "apartment"
          ],
          [
           "Amsterdam",
           "apartment"
          ],
          [
           "Amsterdam",
           "apartment"
          ],
          [
           "Amsterdam",
           "apartment"
          ],
          [
           "Amsterdam",
           "apartment"
          ],
          [
           "Amsterdam",
           "apartment"
          ],
          [
           "Amsterdam",
           "apartment"
          ],
          [
           "Amsterdam",
           "apartment"
          ],
          [
           "Amsterdam",
           "apartment"
          ],
          [
           "Amsterdam",
           "apartment"
          ],
          [
           "Amsterdam",
           "apartment"
          ],
          [
           "Amsterdam",
           "apartment"
          ],
          [
           "Amsterdam",
           "apartment"
          ],
          [
           "Amsterdam",
           "apartment"
          ],
          [
           "Amsterdam",
           "apartment"
          ],
          [
           "Amsterdam",
           "apartment"
          ],
          [
           "Amsterdam",
           "apartment"
          ],
          [
           "Amsterdam",
           "apartment"
          ],
          [
           "Amsterdam",
           "apartment"
          ],
          [
           "Amsterdam",
           "apartment"
          ],
          [
           "Amsterdam",
           "apartment"
          ],
          [
           "Amsterdam",
           "apartment"
          ],
          [
           "Amsterdam",
           "apartment"
          ],
          [
           "Amsterdam",
           "apartment"
          ],
          [
           "Amsterdam",
           "apartment"
          ],
          [
           "Amsterdam",
           "apartment"
          ],
          [
           "Amsterdam",
           "apartment"
          ],
          [
           "Amsterdam",
           "apartment"
          ],
          [
           "Amsterdam",
           "apartment"
          ],
          [
           "Amsterdam",
           "apartment"
          ],
          [
           "Amsterdam",
           "apartment"
          ],
          [
           "Amsterdam",
           "apartment"
          ],
          [
           "Amsterdam",
           "apartment"
          ],
          [
           "Amsterdam",
           "apartment"
          ],
          [
           "Amsterdam",
           "apartment"
          ],
          [
           "Amsterdam",
           "apartment"
          ],
          [
           "Amsterdam",
           "apartment"
          ],
          [
           "Amsterdam",
           "apartment"
          ],
          [
           "Amsterdam",
           "apartment"
          ],
          [
           "Amsterdam",
           "apartment"
          ],
          [
           "Amsterdam",
           "apartment"
          ],
          [
           "Amsterdam",
           "apartment"
          ],
          [
           "Amsterdam",
           "apartment"
          ],
          [
           "Amsterdam",
           "apartment"
          ],
          [
           "Amsterdam",
           "apartment"
          ],
          [
           "Amsterdam",
           "apartment"
          ],
          [
           "Amsterdam",
           "apartment"
          ],
          [
           "Amsterdam",
           "apartment"
          ],
          [
           "Amsterdam",
           "apartment"
          ],
          [
           "Amsterdam",
           "apartment"
          ],
          [
           "Amsterdam",
           "apartment"
          ],
          [
           "Amsterdam",
           "apartment"
          ],
          [
           "Amsterdam",
           "apartment"
          ],
          [
           "Amsterdam",
           "apartment"
          ],
          [
           "Amsterdam",
           "apartment"
          ],
          [
           "Amsterdam",
           "apartment"
          ],
          [
           "Amsterdam",
           "apartment"
          ],
          [
           "Amsterdam",
           "apartment"
          ],
          [
           "Amsterdam",
           "apartment"
          ],
          [
           "Amsterdam",
           "apartment"
          ],
          [
           "Amsterdam",
           "apartment"
          ],
          [
           "Amsterdam",
           "apartment"
          ],
          [
           "Amsterdam",
           "apartment"
          ],
          [
           "Amsterdam",
           "apartment"
          ],
          [
           "Amsterdam",
           "apartment"
          ],
          [
           "Amsterdam",
           "apartment"
          ],
          [
           "Amsterdam",
           "apartment"
          ],
          [
           "Amsterdam",
           "apartment"
          ],
          [
           "Amsterdam",
           "apartment"
          ],
          [
           "Amsterdam",
           "apartment"
          ],
          [
           "Amsterdam",
           "apartment"
          ],
          [
           "Amsterdam",
           "apartment"
          ],
          [
           "Amsterdam",
           "apartment"
          ],
          [
           "Amsterdam",
           "apartment"
          ],
          [
           "Amsterdam",
           "apartment"
          ],
          [
           "Amsterdam",
           "apartment"
          ],
          [
           "Amsterdam",
           "apartment"
          ],
          [
           "Amsterdam",
           "apartment"
          ],
          [
           "Amsterdam",
           "apartment"
          ],
          [
           "Amsterdam",
           "apartment"
          ],
          [
           "Amsterdam",
           "apartment"
          ],
          [
           "Amsterdam",
           "apartment"
          ],
          [
           "Amsterdam",
           "apartment"
          ],
          [
           "Amsterdam",
           "apartment"
          ],
          [
           "Amsterdam",
           "apartment"
          ],
          [
           "Amsterdam",
           "apartment"
          ],
          [
           "Amsterdam",
           "apartment"
          ],
          [
           "Amsterdam",
           "apartment"
          ],
          [
           "Amsterdam",
           "apartment"
          ],
          [
           "Amsterdam",
           "apartment"
          ],
          [
           "Amsterdam",
           "apartment"
          ],
          [
           "Amsterdam",
           "apartment"
          ],
          [
           "Amsterdam",
           "apartment"
          ],
          [
           "Amsterdam",
           "apartment"
          ],
          [
           "Amsterdam",
           "apartment"
          ],
          [
           "Amsterdam",
           "apartment"
          ],
          [
           "Amsterdam",
           "apartment"
          ],
          [
           "Amsterdam",
           "apartment"
          ],
          [
           "Amsterdam",
           "apartment"
          ],
          [
           "Amsterdam",
           "apartment"
          ],
          [
           "Amsterdam",
           "apartment"
          ],
          [
           "Amsterdam",
           "apartment"
          ],
          [
           "Amsterdam",
           "apartment"
          ],
          [
           "Amsterdam",
           "apartment"
          ],
          [
           "Amsterdam",
           "apartment"
          ],
          [
           "Amsterdam",
           "apartment"
          ],
          [
           "Amsterdam",
           "apartment"
          ],
          [
           "Amsterdam",
           "apartment"
          ],
          [
           "Amsterdam",
           "apartment"
          ],
          [
           "Amsterdam",
           "apartment"
          ],
          [
           "Amsterdam",
           "apartment"
          ],
          [
           "Amsterdam",
           "apartment"
          ],
          [
           "Amsterdam",
           "apartment"
          ],
          [
           "Amsterdam",
           "apartment"
          ],
          [
           "Amsterdam",
           "apartment"
          ],
          [
           "Amsterdam",
           "apartment"
          ],
          [
           "Amsterdam",
           "apartment"
          ],
          [
           "Amsterdam",
           "apartment"
          ],
          [
           "Amsterdam",
           "apartment"
          ],
          [
           "Amsterdam",
           "apartment"
          ],
          [
           "Amsterdam",
           "apartment"
          ],
          [
           "Amsterdam",
           "apartment"
          ],
          [
           "Amsterdam",
           "apartment"
          ],
          [
           "Amsterdam",
           "apartment"
          ],
          [
           "Amsterdam",
           "apartment"
          ],
          [
           "Amsterdam",
           "apartment"
          ],
          [
           "Amsterdam",
           "apartment"
          ],
          [
           "Amsterdam",
           "apartment"
          ],
          [
           "Amsterdam",
           "apartment"
          ],
          [
           "Amsterdam",
           "apartment"
          ],
          [
           "Amsterdam",
           "apartment"
          ],
          [
           "Amsterdam",
           "apartment"
          ],
          [
           "Amsterdam",
           "apartment"
          ],
          [
           "Amsterdam",
           "apartment"
          ],
          [
           "Amsterdam",
           "apartment"
          ],
          [
           "Amsterdam",
           "apartment"
          ],
          [
           "Amsterdam",
           "apartment"
          ],
          [
           "Amsterdam",
           "apartment"
          ],
          [
           "Amsterdam",
           "apartment"
          ],
          [
           "Amsterdam",
           "apartment"
          ],
          [
           "Amsterdam",
           "apartment"
          ],
          [
           "Amsterdam",
           "apartment"
          ],
          [
           "Amsterdam",
           "apartment"
          ],
          [
           "Amsterdam",
           "apartment"
          ],
          [
           "Amsterdam",
           "apartment"
          ],
          [
           "Amsterdam",
           "apartment"
          ],
          [
           "Amsterdam",
           "apartment"
          ],
          [
           "Amsterdam",
           "apartment"
          ],
          [
           "Amsterdam",
           "apartment"
          ],
          [
           "Amsterdam",
           "apartment"
          ],
          [
           "Amsterdam",
           "apartment"
          ],
          [
           "Amsterdam",
           "apartment"
          ],
          [
           "Amsterdam",
           "apartment"
          ],
          [
           "Amsterdam",
           "apartment"
          ],
          [
           "Amsterdam",
           "apartment"
          ],
          [
           "Amsterdam",
           "apartment"
          ],
          [
           "Amsterdam",
           "apartment"
          ],
          [
           "Amsterdam",
           "apartment"
          ],
          [
           "Amsterdam",
           "apartment"
          ],
          [
           "Amsterdam",
           "apartment"
          ],
          [
           "Amsterdam",
           "apartment"
          ],
          [
           "Amsterdam",
           "apartment"
          ],
          [
           "Amsterdam",
           "apartment"
          ],
          [
           "Amsterdam",
           "apartment"
          ],
          [
           "Amsterdam",
           "apartment"
          ],
          [
           "Amsterdam",
           "apartment"
          ],
          [
           "Amsterdam",
           "apartment"
          ],
          [
           "Amsterdam",
           "apartment"
          ],
          [
           "Amsterdam",
           "apartment"
          ],
          [
           "Amsterdam",
           "apartment"
          ],
          [
           "Amsterdam",
           "apartment"
          ],
          [
           "Amsterdam",
           "apartment"
          ],
          [
           "Amsterdam",
           "apartment"
          ],
          [
           "Amsterdam",
           "apartment"
          ],
          [
           "Amsterdam",
           "apartment"
          ],
          [
           "Amsterdam",
           "apartment"
          ],
          [
           "Amsterdam",
           "apartment"
          ],
          [
           "Amsterdam",
           "apartment"
          ],
          [
           "Amsterdam",
           "apartment"
          ],
          [
           "Amsterdam",
           "apartment"
          ],
          [
           "Amsterdam",
           "apartment"
          ],
          [
           "Amsterdam",
           "apartment"
          ],
          [
           "Amsterdam",
           "apartment"
          ],
          [
           "Amsterdam",
           "apartment"
          ],
          [
           "Amsterdam",
           "apartment"
          ],
          [
           "Amsterdam",
           "apartment"
          ],
          [
           "Amsterdam",
           "apartment"
          ],
          [
           "Amsterdam",
           "apartment"
          ],
          [
           "Amsterdam",
           "apartment"
          ],
          [
           "Amsterdam",
           "apartment"
          ],
          [
           "Amsterdam",
           "apartment"
          ],
          [
           "Amsterdam",
           "apartment"
          ],
          [
           "Amsterdam",
           "apartment"
          ],
          [
           "Amsterdam",
           "apartment"
          ],
          [
           "Amsterdam",
           "apartment"
          ],
          [
           "Amsterdam",
           "apartment"
          ],
          [
           "Amsterdam",
           "apartment"
          ],
          [
           "Amsterdam",
           "apartment"
          ],
          [
           "Amsterdam",
           "apartment"
          ],
          [
           "Amsterdam",
           "apartment"
          ],
          [
           "Amsterdam",
           "apartment"
          ],
          [
           "Amsterdam",
           "apartment"
          ],
          [
           "Amsterdam",
           "apartment"
          ],
          [
           "Amsterdam",
           "apartment"
          ],
          [
           "Amsterdam",
           "apartment"
          ],
          [
           "Amsterdam",
           "apartment"
          ],
          [
           "Amsterdam",
           "apartment"
          ],
          [
           "Amsterdam",
           "apartment"
          ],
          [
           "Amsterdam",
           "apartment"
          ],
          [
           "Amsterdam",
           "apartment"
          ],
          [
           "Amsterdam",
           "apartment"
          ],
          [
           "Amsterdam",
           "apartment"
          ],
          [
           "Amsterdam",
           "apartment"
          ],
          [
           "Amsterdam",
           "apartment"
          ],
          [
           "Amsterdam",
           "apartment"
          ],
          [
           "Amsterdam",
           "apartment"
          ],
          [
           "Amsterdam",
           "apartment"
          ],
          [
           "Amsterdam",
           "apartment"
          ],
          [
           "Amsterdam",
           "apartment"
          ],
          [
           "Amsterdam",
           "apartment"
          ],
          [
           "Amsterdam",
           "apartment"
          ],
          [
           "Amsterdam",
           "apartment"
          ],
          [
           "Amsterdam",
           "apartment"
          ],
          [
           "Amsterdam",
           "apartment"
          ],
          [
           "Amsterdam",
           "apartment"
          ],
          [
           "Amsterdam",
           "apartment"
          ],
          [
           "Amsterdam",
           "apartment"
          ],
          [
           "Amsterdam",
           "apartment"
          ],
          [
           "Amsterdam",
           "apartment"
          ],
          [
           "Amsterdam",
           "apartment"
          ],
          [
           "Amsterdam",
           "apartment"
          ],
          [
           "Amsterdam",
           "apartment"
          ],
          [
           "Amsterdam",
           "apartment"
          ],
          [
           "Amsterdam",
           "apartment"
          ],
          [
           "Amsterdam",
           "apartment"
          ],
          [
           "Amsterdam",
           "apartment"
          ],
          [
           "Amsterdam",
           "apartment"
          ],
          [
           "Amsterdam",
           "apartment"
          ],
          [
           "Amsterdam",
           "apartment"
          ],
          [
           "Amsterdam",
           "apartment"
          ],
          [
           "Amsterdam",
           "apartment"
          ],
          [
           "Amsterdam",
           "apartment"
          ],
          [
           "Amsterdam",
           "apartment"
          ],
          [
           "Amsterdam",
           "apartment"
          ],
          [
           "Amsterdam",
           "apartment"
          ],
          [
           "Amsterdam",
           "apartment"
          ],
          [
           "Amsterdam",
           "apartment"
          ],
          [
           "Amsterdam",
           "apartment"
          ],
          [
           "Amsterdam",
           "apartment"
          ],
          [
           "Amsterdam",
           "apartment"
          ],
          [
           "Amsterdam",
           "apartment"
          ],
          [
           "Amsterdam",
           "apartment"
          ],
          [
           "Amsterdam",
           "apartment"
          ],
          [
           "Amsterdam",
           "apartment"
          ],
          [
           "Amsterdam",
           "apartment"
          ],
          [
           "Amsterdam",
           "apartment"
          ],
          [
           "Amsterdam",
           "apartment"
          ],
          [
           "Amsterdam",
           "apartment"
          ],
          [
           "Amsterdam",
           "apartment"
          ],
          [
           "Amsterdam",
           "apartment"
          ],
          [
           "Amsterdam",
           "apartment"
          ],
          [
           "Amsterdam",
           "apartment"
          ],
          [
           "Amsterdam",
           "apartment"
          ],
          [
           "Amsterdam",
           "apartment"
          ],
          [
           "Amsterdam",
           "apartment"
          ],
          [
           "Amsterdam",
           "apartment"
          ],
          [
           "Amsterdam",
           "apartment"
          ],
          [
           "Amsterdam",
           "apartment"
          ],
          [
           "Amsterdam",
           "apartment"
          ],
          [
           "Amsterdam",
           "apartment"
          ],
          [
           "Amsterdam",
           "apartment"
          ],
          [
           "Amsterdam",
           "apartment"
          ],
          [
           "Amsterdam",
           "apartment"
          ],
          [
           "Amsterdam",
           "apartment"
          ],
          [
           "Amsterdam",
           "apartment"
          ],
          [
           "Amsterdam",
           "apartment"
          ],
          [
           "Amsterdam",
           "apartment"
          ],
          [
           "Amsterdam",
           "apartment"
          ],
          [
           "Amsterdam",
           "apartment"
          ],
          [
           "Amsterdam",
           "apartment"
          ],
          [
           "Amsterdam",
           "apartment"
          ],
          [
           "Amsterdam",
           "apartment"
          ],
          [
           "Amsterdam",
           "apartment"
          ],
          [
           "Amsterdam",
           "apartment"
          ],
          [
           "Amsterdam",
           "apartment"
          ],
          [
           "Amsterdam",
           "apartment"
          ],
          [
           "Amsterdam",
           "apartment"
          ],
          [
           "Amsterdam",
           "apartment"
          ],
          [
           "Amsterdam",
           "apartment"
          ],
          [
           "Amsterdam",
           "apartment"
          ],
          [
           "Amsterdam",
           "apartment"
          ],
          [
           "Amsterdam",
           "apartment"
          ],
          [
           "Amsterdam",
           "apartment"
          ],
          [
           "Amsterdam",
           "apartment"
          ],
          [
           "Amsterdam",
           "apartment"
          ],
          [
           "Amsterdam",
           "apartment"
          ],
          [
           "Amsterdam",
           "apartment"
          ],
          [
           "Amsterdam",
           "apartment"
          ],
          [
           "Amsterdam",
           "apartment"
          ],
          [
           "Amsterdam",
           "apartment"
          ],
          [
           "Amsterdam",
           "apartment"
          ],
          [
           "Amsterdam",
           "apartment"
          ],
          [
           "Amsterdam",
           "apartment"
          ],
          [
           "Amsterdam",
           "apartment"
          ],
          [
           "Amsterdam",
           "apartment"
          ],
          [
           "Amsterdam",
           "apartment"
          ],
          [
           "Amsterdam",
           "apartment"
          ],
          [
           "Amsterdam",
           "apartment"
          ]
         ],
         "hovertemplate": "property_type=%{customdata[1]}<br>city=%{customdata[0]}<br>rent_FLOAT=%{x}<br>size_INT=%{y}<extra></extra>",
         "legendgroup": "apartment, Amsterdam",
         "marker": {
          "color": "rgb(55,126,184)",
          "opacity": 0.5,
          "size": 4,
          "symbol": "circle"
         },
         "mode": "markers",
         "name": "apartment, Amsterdam",
         "orientation": "v",
         "showlegend": true,
         "type": "scatter",
         "x": [
          2500,
          3100,
          1000,
          1150,
          2500,
          1800,
          2750,
          2000,
          1900,
          2950,
          1380,
          3100,
          1635,
          1172,
          1510,
          1831,
          2104,
          1820,
          1465,
          4500,
          2500,
          3105,
          2000,
          2050,
          2300,
          1815,
          1580,
          2750,
          2250,
          2250,
          2300,
          3350,
          2450,
          1800,
          2050,
          1900,
          6000,
          2270,
          2700,
          2355,
          2325,
          2200,
          2500,
          1950,
          5000,
          2600,
          3900,
          1820,
          1600,
          2600,
          2450,
          1820,
          2270,
          6250,
          2750,
          2195,
          2650,
          2050,
          2300,
          4000,
          2450,
          2350,
          5600,
          1810,
          2500,
          3000,
          2950,
          5000,
          2500,
          2000,
          1335,
          1325,
          2986,
          1090,
          980,
          2195,
          1375,
          1230,
          2995,
          1210,
          1175,
          1400,
          1120,
          2225,
          2350,
          1200,
          1725,
          5800,
          2500,
          2500,
          1225,
          1375,
          3250,
          1750,
          782.18,
          1275,
          1625,
          1220,
          1250,
          1200,
          2500,
          1225,
          1475,
          3100,
          1120,
          2500,
          3250,
          1200,
          1250,
          980,
          1250,
          1145,
          1175,
          1472,
          2305,
          1220,
          2500,
          1150,
          1575,
          2750,
          745.81,
          2500,
          1350,
          1050,
          2800,
          3250,
          3500,
          1325,
          2100,
          3995,
          1220,
          2750,
          2500,
          2500,
          3100,
          1700,
          2700,
          2500,
          2750,
          2500,
          2995,
          2100,
          2270,
          1725,
          1650,
          925,
          2950,
          2010,
          2315,
          2010,
          1700,
          1175,
          2225,
          1900,
          2250,
          2400,
          1865,
          3000,
          3800,
          2010,
          2775,
          2405,
          2700,
          2385,
          2190,
          2010,
          2500,
          2750,
          3750,
          925,
          2350,
          2500,
          1050,
          2317.5,
          2330,
          2500,
          2450,
          2300,
          2500,
          2700,
          2750,
          2500,
          1940,
          2375,
          2923,
          2350,
          2350,
          3500,
          3850,
          3250,
          2750,
          3900,
          3500,
          3250,
          1860,
          2800,
          2838,
          1700,
          3250,
          1780,
          2750,
          2500,
          3000,
          3500,
          2380,
          3000,
          2600,
          3100,
          2270,
          2150,
          3800,
          2400,
          2250,
          3000,
          2700,
          1947,
          3000,
          2750,
          3500,
          1185,
          3492,
          2600,
          2150,
          3100,
          2500,
          2400,
          3100,
          2305,
          2285,
          4250,
          3500,
          5250,
          805,
          2350,
          2200,
          2150,
          2270,
          4750,
          4250,
          2575,
          2950,
          2150,
          2150,
          2900,
          2750,
          2900,
          2350,
          2900,
          2150,
          2900,
          1800,
          2100,
          2300,
          2250,
          1977.6,
          805,
          1936.4,
          805,
          805,
          805,
          1530,
          3750,
          3500,
          2275,
          2750,
          3750,
          1957,
          3250,
          2995,
          3500,
          2190,
          6500,
          2750,
          2500,
          2350,
          3200,
          3250,
          3500,
          2250,
          2250,
          2250,
          2700,
          1800,
          1082,
          3514,
          2600,
          3500,
          4500,
          2900,
          1725,
          5500,
          4750,
          2750,
          3750,
          3500,
          2450,
          2750,
          2750,
          1710,
          3200,
          3200,
          2600,
          2500,
          2450,
          4000,
          3000,
          2950,
          5500,
          2500,
          2164,
          3950,
          1150,
          2400,
          10850,
          2099,
          3250,
          2100,
          1144,
          2995,
          3995,
          3995,
          3750,
          4500,
          2250,
          4500,
          4500,
          2200,
          1800,
          2250,
          1600,
          1500,
          2075,
          2400,
          2950,
          1900,
          1900,
          4500,
          2050,
          1800,
          4500,
          1800,
          4500,
          1450,
          4500,
          1450
         ],
         "xaxis": "x",
         "y": [
          44,
          85,
          50,
          60,
          32,
          60,
          30,
          64,
          90,
          105,
          65,
          129,
          69,
          52,
          74,
          74,
          89,
          70,
          112,
          114,
          66,
          120,
          103,
          109,
          116,
          85,
          77,
          90,
          86,
          95,
          116,
          79,
          62,
          80,
          88,
          62,
          135,
          81,
          91,
          50,
          50,
          92,
          65,
          114,
          125,
          90,
          130,
          77,
          54,
          65,
          49,
          70,
          81,
          182,
          89,
          62,
          130,
          106,
          55,
          147,
          90,
          124,
          117,
          85,
          79,
          104,
          112,
          158,
          75,
          65,
          94,
          78,
          110,
          75,
          35,
          67,
          55,
          75,
          75,
          58,
          80,
          90,
          45,
          82,
          63,
          59,
          62,
          102,
          67,
          83,
          81,
          60,
          120,
          120,
          34,
          37,
          60,
          88,
          42,
          58,
          83,
          75,
          105,
          120,
          35,
          83,
          90,
          92,
          64,
          29,
          65,
          72,
          65,
          70,
          78,
          45,
          66,
          66,
          80,
          85,
          27,
          83,
          89,
          58,
          73,
          123,
          113,
          82,
          75,
          70,
          50,
          100,
          76,
          66,
          98,
          79,
          84,
          83,
          85,
          67,
          75,
          70,
          81,
          62,
          64,
          57,
          100,
          72,
          86,
          72,
          61,
          97,
          80,
          100,
          100,
          86,
          72,
          130,
          107,
          72,
          83,
          86,
          107,
          85,
          78,
          72,
          85,
          103,
          145,
          67,
          80,
          83,
          86,
          85,
          83,
          83,
          77,
          86,
          83,
          107,
          85,
          67,
          63,
          64,
          119,
          50,
          64,
          140,
          110,
          130,
          80,
          133,
          117,
          106,
          58,
          89,
          120,
          53,
          107,
          55,
          105,
          95,
          115,
          148,
          83,
          141,
          66,
          98,
          81,
          83,
          150,
          82,
          93,
          75,
          107,
          73,
          95,
          85,
          150,
          59,
          130,
          108,
          90,
          85,
          60,
          96,
          85,
          77,
          50,
          107,
          141,
          144,
          27,
          71,
          58,
          83,
          81,
          155,
          127,
          70,
          100,
          104,
          78,
          52,
          100,
          52,
          94,
          52,
          83,
          52,
          76,
          76,
          95,
          83,
          71,
          27,
          70,
          27,
          27,
          28,
          44,
          130,
          100,
          59,
          80,
          140,
          70,
          95,
          915,
          150,
          100,
          210,
          100,
          59,
          70,
          100,
          110,
          117,
          88,
          43,
          88,
          80,
          76,
          79,
          130,
          65,
          140,
          120,
          80,
          102,
          188,
          141,
          100,
          140,
          100,
          66,
          105,
          100,
          69,
          80,
          80,
          75,
          55,
          58,
          141,
          90,
          95,
          162,
          65,
          79,
          190,
          47,
          83,
          235,
          75,
          67,
          80,
          22,
          100,
          100,
          75,
          150,
          140,
          120,
          101,
          110,
          85,
          70,
          74,
          55,
          45,
          92,
          59,
          170,
          90,
          78,
          105,
          50,
          76,
          75,
          54,
          120,
          65,
          117,
          34
         ],
         "yaxis": "y"
        },
        {
         "customdata": [
          [
           "Utrecht",
           "apartment"
          ],
          [
           "Utrecht",
           "apartment"
          ],
          [
           "Utrecht",
           "apartment"
          ],
          [
           "Utrecht",
           "apartment"
          ],
          [
           "Utrecht",
           "apartment"
          ],
          [
           "Utrecht",
           "apartment"
          ],
          [
           "Utrecht",
           "apartment"
          ],
          [
           "Utrecht",
           "apartment"
          ],
          [
           "Utrecht",
           "apartment"
          ],
          [
           "Utrecht",
           "apartment"
          ],
          [
           "Utrecht",
           "apartment"
          ],
          [
           "Utrecht",
           "apartment"
          ],
          [
           "Utrecht",
           "apartment"
          ],
          [
           "Utrecht",
           "apartment"
          ],
          [
           "Utrecht",
           "apartment"
          ],
          [
           "Utrecht",
           "apartment"
          ],
          [
           "Utrecht",
           "apartment"
          ],
          [
           "Utrecht",
           "apartment"
          ],
          [
           "Utrecht",
           "apartment"
          ],
          [
           "Utrecht",
           "apartment"
          ],
          [
           "Utrecht",
           "apartment"
          ],
          [
           "Utrecht",
           "apartment"
          ],
          [
           "Utrecht",
           "apartment"
          ],
          [
           "Utrecht",
           "apartment"
          ],
          [
           "Utrecht",
           "apartment"
          ],
          [
           "Utrecht",
           "apartment"
          ],
          [
           "Utrecht",
           "apartment"
          ],
          [
           "Utrecht",
           "apartment"
          ],
          [
           "Utrecht",
           "apartment"
          ],
          [
           "Utrecht",
           "apartment"
          ],
          [
           "Utrecht",
           "apartment"
          ],
          [
           "Utrecht",
           "apartment"
          ],
          [
           "Utrecht",
           "apartment"
          ],
          [
           "Utrecht",
           "apartment"
          ],
          [
           "Utrecht",
           "apartment"
          ],
          [
           "Utrecht",
           "apartment"
          ],
          [
           "Utrecht",
           "apartment"
          ],
          [
           "Utrecht",
           "apartment"
          ],
          [
           "Utrecht",
           "apartment"
          ],
          [
           "Utrecht",
           "apartment"
          ],
          [
           "Utrecht",
           "apartment"
          ],
          [
           "Utrecht",
           "apartment"
          ],
          [
           "Utrecht",
           "apartment"
          ],
          [
           "Utrecht",
           "apartment"
          ],
          [
           "Utrecht",
           "apartment"
          ],
          [
           "Utrecht",
           "apartment"
          ],
          [
           "Utrecht",
           "apartment"
          ],
          [
           "Utrecht",
           "apartment"
          ],
          [
           "Utrecht",
           "apartment"
          ],
          [
           "Utrecht",
           "apartment"
          ],
          [
           "Utrecht",
           "apartment"
          ],
          [
           "Utrecht",
           "apartment"
          ],
          [
           "Utrecht",
           "apartment"
          ],
          [
           "Utrecht",
           "apartment"
          ],
          [
           "Utrecht",
           "apartment"
          ],
          [
           "Utrecht",
           "apartment"
          ],
          [
           "Utrecht",
           "apartment"
          ],
          [
           "Utrecht",
           "apartment"
          ],
          [
           "Utrecht",
           "apartment"
          ],
          [
           "Utrecht",
           "apartment"
          ],
          [
           "Utrecht",
           "apartment"
          ],
          [
           "Utrecht",
           "apartment"
          ],
          [
           "Utrecht",
           "apartment"
          ],
          [
           "Utrecht",
           "apartment"
          ],
          [
           "Utrecht",
           "apartment"
          ],
          [
           "Utrecht",
           "apartment"
          ],
          [
           "Utrecht",
           "apartment"
          ],
          [
           "Utrecht",
           "apartment"
          ],
          [
           "Utrecht",
           "apartment"
          ],
          [
           "Utrecht",
           "apartment"
          ],
          [
           "Utrecht",
           "apartment"
          ],
          [
           "Utrecht",
           "apartment"
          ],
          [
           "Utrecht",
           "apartment"
          ],
          [
           "Utrecht",
           "apartment"
          ],
          [
           "Utrecht",
           "apartment"
          ],
          [
           "Utrecht",
           "apartment"
          ],
          [
           "Utrecht",
           "apartment"
          ],
          [
           "Utrecht",
           "apartment"
          ],
          [
           "Utrecht",
           "apartment"
          ],
          [
           "Utrecht",
           "apartment"
          ],
          [
           "Utrecht",
           "apartment"
          ],
          [
           "Utrecht",
           "apartment"
          ],
          [
           "Utrecht",
           "apartment"
          ],
          [
           "Utrecht",
           "apartment"
          ],
          [
           "Utrecht",
           "apartment"
          ],
          [
           "Utrecht",
           "apartment"
          ],
          [
           "Utrecht",
           "apartment"
          ],
          [
           "Utrecht",
           "apartment"
          ],
          [
           "Utrecht",
           "apartment"
          ],
          [
           "Utrecht",
           "apartment"
          ],
          [
           "Utrecht",
           "apartment"
          ],
          [
           "Utrecht",
           "apartment"
          ],
          [
           "Utrecht",
           "apartment"
          ],
          [
           "Utrecht",
           "apartment"
          ],
          [
           "Utrecht",
           "apartment"
          ],
          [
           "Utrecht",
           "apartment"
          ],
          [
           "Utrecht",
           "apartment"
          ],
          [
           "Utrecht",
           "apartment"
          ],
          [
           "Utrecht",
           "apartment"
          ],
          [
           "Utrecht",
           "apartment"
          ],
          [
           "Utrecht",
           "apartment"
          ],
          [
           "Utrecht",
           "apartment"
          ]
         ],
         "hovertemplate": "property_type=%{customdata[1]}<br>city=%{customdata[0]}<br>rent_FLOAT=%{x}<br>size_INT=%{y}<extra></extra>",
         "legendgroup": "apartment, Utrecht",
         "marker": {
          "color": "rgb(55,126,184)",
          "opacity": 0.5,
          "size": 4,
          "symbol": "square"
         },
         "mode": "markers",
         "name": "apartment, Utrecht",
         "orientation": "v",
         "showlegend": true,
         "type": "scatter",
         "x": [
          2750,
          2300,
          1630,
          1275,
          1995,
          1420,
          1495,
          1895,
          2575,
          975,
          2190,
          1225,
          1080,
          1150,
          1080,
          980,
          1050,
          2950,
          947,
          980,
          896,
          865,
          1424,
          1060,
          995,
          1250,
          1200,
          1200,
          1090,
          1030,
          1235,
          1095,
          1050,
          990,
          1020,
          1080,
          860,
          1995,
          845,
          890,
          830,
          1194,
          2850,
          4500,
          1300,
          1200,
          1600,
          1420,
          32485,
          1775,
          2895,
          1450,
          1150,
          765,
          1300,
          815,
          1700,
          1150,
          2250,
          2250,
          2495,
          737,
          1100,
          2095,
          175,
          1750,
          1850,
          975,
          1575,
          950,
          1700,
          1250,
          1650,
          1375,
          1250,
          1350,
          950,
          1250,
          1450,
          1100,
          1165,
          900,
          1950,
          960,
          1450,
          1485,
          1200,
          1850,
          1395,
          1350,
          1295,
          1200,
          1050,
          1450,
          925,
          1500,
          1250,
          1150,
          1300,
          1275,
          1195,
          1700
         ],
         "xaxis": "x",
         "y": [
          89,
          55,
          77,
          103,
          125,
          20,
          35,
          70,
          100,
          25,
          70,
          80,
          79,
          79,
          57,
          75,
          75,
          110,
          30,
          65,
          40,
          72,
          31,
          85,
          67,
          91,
          79,
          94,
          105,
          60,
          81,
          57,
          75,
          75,
          70,
          102,
          32,
          100,
          65,
          37,
          65,
          62,
          59,
          170,
          55,
          40,
          48,
          48,
          35,
          77,
          76,
          45,
          37,
          30,
          47,
          29,
          60,
          35,
          78,
          78,
          140,
          28,
          25,
          113,
          15,
          101,
          100,
          55,
          65,
          38,
          80,
          85,
          120,
          80,
          70,
          55,
          57,
          65,
          86,
          90,
          70,
          28,
          117,
          40,
          60,
          75,
          60,
          85,
          90,
          70,
          75,
          90,
          48,
          90,
          50,
          85,
          60,
          70,
          60,
          55,
          75,
          80
         ],
         "yaxis": "y"
        },
        {
         "customdata": [
          [
           "North Brabant",
           "apartment"
          ],
          [
           "North Brabant",
           "apartment"
          ],
          [
           "North Brabant",
           "apartment"
          ],
          [
           "North Brabant",
           "apartment"
          ],
          [
           "North Brabant",
           "apartment"
          ],
          [
           "North Brabant",
           "apartment"
          ],
          [
           "North Brabant",
           "apartment"
          ],
          [
           "North Brabant",
           "apartment"
          ],
          [
           "North Brabant",
           "apartment"
          ],
          [
           "North Brabant",
           "apartment"
          ],
          [
           "North Brabant",
           "apartment"
          ],
          [
           "North Brabant",
           "apartment"
          ],
          [
           "North Brabant",
           "apartment"
          ],
          [
           "North Brabant",
           "apartment"
          ],
          [
           "North Brabant",
           "apartment"
          ],
          [
           "North Brabant",
           "apartment"
          ],
          [
           "North Brabant",
           "apartment"
          ],
          [
           "North Brabant",
           "apartment"
          ],
          [
           "North Brabant",
           "apartment"
          ],
          [
           "North Brabant",
           "apartment"
          ],
          [
           "North Brabant",
           "apartment"
          ],
          [
           "North Brabant",
           "apartment"
          ],
          [
           "North Brabant",
           "apartment"
          ],
          [
           "North Brabant",
           "apartment"
          ],
          [
           "North Brabant",
           "apartment"
          ],
          [
           "North Brabant",
           "apartment"
          ],
          [
           "North Brabant",
           "apartment"
          ],
          [
           "North Brabant",
           "apartment"
          ],
          [
           "North Brabant",
           "apartment"
          ],
          [
           "North Brabant",
           "apartment"
          ],
          [
           "North Brabant",
           "apartment"
          ],
          [
           "North Brabant",
           "apartment"
          ],
          [
           "North Brabant",
           "apartment"
          ],
          [
           "North Brabant",
           "apartment"
          ],
          [
           "North Brabant",
           "apartment"
          ],
          [
           "North Brabant",
           "apartment"
          ],
          [
           "North Brabant",
           "apartment"
          ],
          [
           "North Brabant",
           "apartment"
          ],
          [
           "North Brabant",
           "apartment"
          ],
          [
           "North Brabant",
           "apartment"
          ],
          [
           "North Brabant",
           "apartment"
          ],
          [
           "North Brabant",
           "apartment"
          ],
          [
           "North Brabant",
           "apartment"
          ],
          [
           "North Brabant",
           "apartment"
          ],
          [
           "North Brabant",
           "apartment"
          ],
          [
           "North Brabant",
           "apartment"
          ],
          [
           "North Brabant",
           "apartment"
          ],
          [
           "North Brabant",
           "apartment"
          ],
          [
           "North Brabant",
           "apartment"
          ],
          [
           "North Brabant",
           "apartment"
          ],
          [
           "North Brabant",
           "apartment"
          ],
          [
           "North Brabant",
           "apartment"
          ],
          [
           "North Brabant",
           "apartment"
          ],
          [
           "North Brabant",
           "apartment"
          ],
          [
           "North Brabant",
           "apartment"
          ],
          [
           "North Brabant",
           "apartment"
          ],
          [
           "North Brabant",
           "apartment"
          ],
          [
           "North Brabant",
           "apartment"
          ],
          [
           "North Brabant",
           "apartment"
          ],
          [
           "North Brabant",
           "apartment"
          ],
          [
           "North Brabant",
           "apartment"
          ],
          [
           "North Brabant",
           "apartment"
          ],
          [
           "North Brabant",
           "apartment"
          ],
          [
           "North Brabant",
           "apartment"
          ],
          [
           "North Brabant",
           "apartment"
          ],
          [
           "North Brabant",
           "apartment"
          ],
          [
           "North Brabant",
           "apartment"
          ],
          [
           "North Brabant",
           "apartment"
          ],
          [
           "North Brabant",
           "apartment"
          ],
          [
           "North Brabant",
           "apartment"
          ],
          [
           "North Brabant",
           "apartment"
          ],
          [
           "North Brabant",
           "apartment"
          ],
          [
           "North Brabant",
           "apartment"
          ],
          [
           "North Brabant",
           "apartment"
          ],
          [
           "North Brabant",
           "apartment"
          ],
          [
           "North Brabant",
           "apartment"
          ],
          [
           "North Brabant",
           "apartment"
          ],
          [
           "North Brabant",
           "apartment"
          ],
          [
           "North Brabant",
           "apartment"
          ],
          [
           "North Brabant",
           "apartment"
          ],
          [
           "North Brabant",
           "apartment"
          ],
          [
           "North Brabant",
           "apartment"
          ],
          [
           "North Brabant",
           "apartment"
          ],
          [
           "North Brabant",
           "apartment"
          ],
          [
           "North Brabant",
           "apartment"
          ],
          [
           "North Brabant",
           "apartment"
          ],
          [
           "North Brabant",
           "apartment"
          ],
          [
           "North Brabant",
           "apartment"
          ],
          [
           "North Brabant",
           "apartment"
          ],
          [
           "North Brabant",
           "apartment"
          ],
          [
           "North Brabant",
           "apartment"
          ],
          [
           "North Brabant",
           "apartment"
          ],
          [
           "North Brabant",
           "apartment"
          ],
          [
           "North Brabant",
           "apartment"
          ],
          [
           "North Brabant",
           "apartment"
          ],
          [
           "North Brabant",
           "apartment"
          ],
          [
           "North Brabant",
           "apartment"
          ],
          [
           "North Brabant",
           "apartment"
          ],
          [
           "North Brabant",
           "apartment"
          ],
          [
           "North Brabant",
           "apartment"
          ],
          [
           "North Brabant",
           "apartment"
          ],
          [
           "North Brabant",
           "apartment"
          ]
         ],
         "hovertemplate": "property_type=%{customdata[1]}<br>city=%{customdata[0]}<br>rent_FLOAT=%{x}<br>size_INT=%{y}<extra></extra>",
         "legendgroup": "apartment, North Brabant",
         "marker": {
          "color": "rgb(55,126,184)",
          "opacity": 0.5,
          "size": 4,
          "symbol": "x"
         },
         "mode": "markers",
         "name": "apartment, North Brabant",
         "orientation": "v",
         "showlegend": true,
         "type": "scatter",
         "x": [
          600,
          830,
          3400,
          2600,
          4200,
          1050,
          2800,
          3600,
          3500,
          3750,
          3750,
          3500,
          3250,
          3400,
          2700,
          4000,
          2800,
          4200,
          2750,
          2800,
          3400,
          2900,
          3750,
          1350,
          1250,
          1390,
          682.96,
          1120,
          1225,
          1435,
          1395,
          1190,
          1315,
          1420,
          1420,
          1380,
          1440,
          1220,
          1385,
          1380,
          1315,
          1590,
          870,
          2250,
          900,
          986,
          1052,
          870,
          870,
          1525,
          980,
          1695,
          1845,
          600,
          1013,
          1275,
          1695,
          2600,
          887,
          895,
          900,
          590,
          827,
          1450,
          900,
          1950,
          1195,
          1375,
          1095,
          2700,
          2250,
          1525,
          741,
          1800,
          805,
          1995,
          900,
          880,
          380,
          1700,
          1760,
          1975,
          1050,
          1750,
          1460,
          1450,
          1460,
          1395,
          1460,
          1460,
          1185,
          1450,
          1010,
          1005,
          1775,
          1850,
          1406,
          1700,
          1525,
          1995,
          1925,
          900
         ],
         "xaxis": "x",
         "y": [
          37,
          14,
          90,
          50,
          70,
          71,
          50,
          70,
          65,
          80,
          50,
          60,
          50,
          45,
          50,
          64,
          50,
          75,
          35,
          65,
          90,
          50,
          50,
          92,
          65,
          89,
          59,
          71,
          80,
          93,
          95,
          114,
          111,
          93,
          95,
          94,
          92,
          114,
          95,
          94,
          111,
          95,
          48,
          90,
          74,
          49,
          51,
          59,
          71,
          50,
          52,
          82,
          121,
          55,
          69,
          81,
          105,
          118,
          59,
          30,
          38,
          22,
          28,
          72,
          10,
          130,
          50,
          32,
          71,
          103,
          83,
          49,
          25,
          83,
          60,
          110,
          22,
          21,
          13,
          60,
          66,
          74,
          12,
          73,
          101,
          103,
          101,
          91,
          101,
          101,
          75,
          101,
          64,
          66,
          71,
          60,
          70,
          54,
          55,
          132,
          78,
          35
         ],
         "yaxis": "y"
        },
        {
         "customdata": [
          [
           "Amsterdam",
           "Room"
          ]
         ],
         "hovertemplate": "property_type=%{customdata[1]}<br>city=%{customdata[0]}<br>rent_FLOAT=%{x}<br>size_INT=%{y}<extra></extra>",
         "legendgroup": "Room, Amsterdam",
         "marker": {
          "color": "rgb(77,175,74)",
          "opacity": 0.5,
          "size": 4,
          "symbol": "circle"
         },
         "mode": "markers",
         "name": "Room, Amsterdam",
         "orientation": "v",
         "showlegend": true,
         "type": "scatter",
         "x": [
          850
         ],
         "xaxis": "x",
         "y": [
          null
         ],
         "yaxis": "y"
        },
        {
         "customdata": [
          [
           "Amsterdam",
           "Apartment"
          ],
          [
           "Amsterdam",
           "Apartment"
          ],
          [
           "Amsterdam",
           "Apartment"
          ],
          [
           "Amsterdam",
           "Apartment"
          ],
          [
           "Amsterdam",
           "Apartment"
          ],
          [
           "Amsterdam",
           "Apartment"
          ],
          [
           "Amsterdam",
           "Apartment"
          ],
          [
           "Amsterdam",
           "Apartment"
          ],
          [
           "Amsterdam",
           "Apartment"
          ],
          [
           "Amsterdam",
           "Apartment"
          ],
          [
           "Amsterdam",
           "Apartment"
          ],
          [
           "Amsterdam",
           "Apartment"
          ],
          [
           "Amsterdam",
           "Apartment"
          ],
          [
           "Amsterdam",
           "Apartment"
          ],
          [
           "Amsterdam",
           "Apartment"
          ],
          [
           "Amsterdam",
           "Apartment"
          ],
          [
           "Amsterdam",
           "Apartment"
          ],
          [
           "Amsterdam",
           "Apartment"
          ],
          [
           "Amsterdam",
           "Apartment"
          ],
          [
           "Amsterdam",
           "Apartment"
          ],
          [
           "Amsterdam",
           "Apartment"
          ],
          [
           "Amsterdam",
           "Apartment"
          ],
          [
           "Amsterdam",
           "Apartment"
          ],
          [
           "Amsterdam",
           "Apartment"
          ],
          [
           "Amsterdam",
           "Apartment"
          ],
          [
           "Amsterdam",
           "Apartment"
          ],
          [
           "Amsterdam",
           "Apartment"
          ],
          [
           "Amsterdam",
           "Apartment"
          ],
          [
           "Amsterdam",
           "Apartment"
          ],
          [
           "Amsterdam",
           "Apartment"
          ],
          [
           "Amsterdam",
           "Apartment"
          ],
          [
           "Amsterdam",
           "Apartment"
          ],
          [
           "Amsterdam",
           "Apartment"
          ],
          [
           "Amsterdam",
           "Apartment"
          ],
          [
           "Amsterdam",
           "Apartment"
          ],
          [
           "Amsterdam",
           "Apartment"
          ],
          [
           "Amsterdam",
           "Apartment"
          ],
          [
           "Amsterdam",
           "Apartment"
          ],
          [
           "Amsterdam",
           "Apartment"
          ],
          [
           "Amsterdam",
           "Apartment"
          ]
         ],
         "hovertemplate": "property_type=%{customdata[1]}<br>city=%{customdata[0]}<br>rent_FLOAT=%{x}<br>size_INT=%{y}<extra></extra>",
         "legendgroup": "Apartment, Amsterdam",
         "marker": {
          "color": "rgb(152,78,163)",
          "opacity": 0.5,
          "size": 4,
          "symbol": "circle"
         },
         "mode": "markers",
         "name": "Apartment, Amsterdam",
         "orientation": "v",
         "showlegend": true,
         "type": "scatter",
         "x": [
          1000,
          1107,
          300,
          895,
          1495,
          1380,
          1831,
          1172,
          1502,
          1472,
          2104,
          1840,
          2300,
          2800,
          1580,
          1815,
          110,
          1510,
          1734,
          1381,
          1124,
          1660,
          3250,
          1763,
          1521,
          1606,
          1629,
          1990,
          449,
          900,
          950,
          6000,
          950,
          900,
          1550,
          1690,
          2500,
          3250,
          1300,
          2350
         ],
         "xaxis": "x",
         "y": [
          null,
          null,
          null,
          null,
          null,
          null,
          null,
          null,
          null,
          null,
          null,
          null,
          null,
          null,
          null,
          null,
          null,
          null,
          null,
          null,
          null,
          null,
          null,
          null,
          null,
          null,
          null,
          null,
          null,
          null,
          null,
          null,
          null,
          null,
          null,
          null,
          null,
          null,
          null,
          null
         ],
         "yaxis": "y"
        },
        {
         "customdata": [
          [
           "Utrecht",
           "Apartment"
          ],
          [
           "Utrecht",
           "Apartment"
          ],
          [
           "Utrecht",
           "Apartment"
          ],
          [
           "Utrecht",
           "Apartment"
          ]
         ],
         "hovertemplate": "property_type=%{customdata[1]}<br>city=%{customdata[0]}<br>rent_FLOAT=%{x}<br>size_INT=%{y}<extra></extra>",
         "legendgroup": "Apartment, Utrecht",
         "marker": {
          "color": "rgb(152,78,163)",
          "opacity": 0.5,
          "size": 4,
          "symbol": "square"
         },
         "mode": "markers",
         "name": "Apartment, Utrecht",
         "orientation": "v",
         "showlegend": true,
         "type": "scatter",
         "x": [
          200,
          250,
          200,
          1100
         ],
         "xaxis": "x",
         "y": [
          null,
          null,
          null,
          null
         ],
         "yaxis": "y"
        },
        {
         "customdata": [
          [
           "North Brabant",
           "Apartment"
          ],
          [
           "North Brabant",
           "Apartment"
          ],
          [
           "North Brabant",
           "Apartment"
          ],
          [
           "North Brabant",
           "Apartment"
          ],
          [
           "North Brabant",
           "Apartment"
          ],
          [
           "North Brabant",
           "Apartment"
          ],
          [
           "North Brabant",
           "Apartment"
          ],
          [
           "North Brabant",
           "Apartment"
          ],
          [
           "North Brabant",
           "Apartment"
          ],
          [
           "North Brabant",
           "Apartment"
          ],
          [
           "North Brabant",
           "Apartment"
          ]
         ],
         "hovertemplate": "property_type=%{customdata[1]}<br>city=%{customdata[0]}<br>rent_FLOAT=%{x}<br>size_INT=%{y}<extra></extra>",
         "legendgroup": "Apartment, North Brabant",
         "marker": {
          "color": "rgb(152,78,163)",
          "opacity": 0.5,
          "size": 4,
          "symbol": "x"
         },
         "mode": "markers",
         "name": "Apartment, North Brabant",
         "orientation": "v",
         "showlegend": true,
         "type": "scatter",
         "x": [
          1235,
          1330,
          1240,
          1055,
          1320,
          1205,
          1160,
          1015,
          1295,
          1495,
          1280
         ],
         "xaxis": "x",
         "y": [
          null,
          null,
          null,
          null,
          null,
          null,
          null,
          null,
          null,
          null,
          null
         ],
         "yaxis": "y"
        },
        {
         "customdata": [
          [
           "Amsterdam",
           "house"
          ],
          [
           "Amsterdam",
           "house"
          ],
          [
           "Amsterdam",
           "house"
          ],
          [
           "Amsterdam",
           "house"
          ],
          [
           "Amsterdam",
           "house"
          ],
          [
           "Amsterdam",
           "house"
          ],
          [
           "Amsterdam",
           "house"
          ],
          [
           "Amsterdam",
           "house"
          ],
          [
           "Amsterdam",
           "house"
          ],
          [
           "Amsterdam",
           "house"
          ],
          [
           "Amsterdam",
           "house"
          ],
          [
           "Amsterdam",
           "house"
          ],
          [
           "Amsterdam",
           "house"
          ],
          [
           "Amsterdam",
           "house"
          ],
          [
           "Amsterdam",
           "house"
          ]
         ],
         "hovertemplate": "property_type=%{customdata[1]}<br>city=%{customdata[0]}<br>rent_FLOAT=%{x}<br>size_INT=%{y}<extra></extra>",
         "legendgroup": "house, Amsterdam",
         "marker": {
          "color": "rgb(255,127,0)",
          "opacity": 0.5,
          "size": 4,
          "symbol": "circle"
         },
         "mode": "markers",
         "name": "house, Amsterdam",
         "orientation": "v",
         "showlegend": true,
         "type": "scatter",
         "x": [
          2200,
          3950,
          3950,
          3500,
          2750,
          2995,
          15000,
          3250,
          1400,
          4250,
          3500,
          3250,
          3350,
          4500,
          2500
         ],
         "xaxis": "x",
         "y": [
          160,
          189,
          140,
          138,
          94,
          110,
          354,
          120,
          50,
          220,
          158,
          194,
          76,
          190,
          130
         ],
         "yaxis": "y"
        },
        {
         "customdata": [
          [
           "Utrecht",
           "house"
          ],
          [
           "Utrecht",
           "house"
          ],
          [
           "Utrecht",
           "house"
          ],
          [
           "Utrecht",
           "house"
          ],
          [
           "Utrecht",
           "house"
          ]
         ],
         "hovertemplate": "property_type=%{customdata[1]}<br>city=%{customdata[0]}<br>rent_FLOAT=%{x}<br>size_INT=%{y}<extra></extra>",
         "legendgroup": "house, Utrecht",
         "marker": {
          "color": "rgb(255,127,0)",
          "opacity": 0.5,
          "size": 4,
          "symbol": "square"
         },
         "mode": "markers",
         "name": "house, Utrecht",
         "orientation": "v",
         "showlegend": true,
         "type": "scatter",
         "x": [
          2295,
          2150,
          2050,
          2120,
          3330
         ],
         "xaxis": "x",
         "y": [
          100,
          102,
          134,
          86,
          185
         ],
         "yaxis": "y"
        },
        {
         "customdata": [
          [
           "North Brabant",
           "house"
          ],
          [
           "North Brabant",
           "house"
          ],
          [
           "North Brabant",
           "house"
          ],
          [
           "North Brabant",
           "house"
          ],
          [
           "North Brabant",
           "house"
          ],
          [
           "North Brabant",
           "house"
          ],
          [
           "North Brabant",
           "house"
          ],
          [
           "North Brabant",
           "house"
          ],
          [
           "North Brabant",
           "house"
          ],
          [
           "North Brabant",
           "house"
          ]
         ],
         "hovertemplate": "property_type=%{customdata[1]}<br>city=%{customdata[0]}<br>rent_FLOAT=%{x}<br>size_INT=%{y}<extra></extra>",
         "legendgroup": "house, North Brabant",
         "marker": {
          "color": "rgb(255,127,0)",
          "opacity": 0.5,
          "size": 4,
          "symbol": "x"
         },
         "mode": "markers",
         "name": "house, North Brabant",
         "orientation": "v",
         "showlegend": true,
         "type": "scatter",
         "x": [
          1795,
          1000,
          1550,
          1995,
          2500,
          1950,
          1795,
          1900,
          3495,
          2950
         ],
         "xaxis": "x",
         "y": [
          120,
          132,
          112,
          132,
          141,
          135,
          108,
          95,
          160,
          213
         ],
         "yaxis": "y"
        },
        {
         "customdata": [
          [
           "Amsterdam",
           "House"
          ],
          [
           "Amsterdam",
           "House"
          ]
         ],
         "hovertemplate": "property_type=%{customdata[1]}<br>city=%{customdata[0]}<br>rent_FLOAT=%{x}<br>size_INT=%{y}<extra></extra>",
         "legendgroup": "House, Amsterdam",
         "marker": {
          "color": "rgb(255,255,51)",
          "opacity": 0.5,
          "size": 4,
          "symbol": "circle"
         },
         "mode": "markers",
         "name": "House, Amsterdam",
         "orientation": "v",
         "showlegend": true,
         "type": "scatter",
         "x": [
          1042,
          4500
         ],
         "xaxis": "x",
         "y": [
          null,
          null
         ],
         "yaxis": "y"
        },
        {
         "customdata": [
          [
           "Utrecht",
           "House"
          ],
          [
           "Utrecht",
           "House"
          ]
         ],
         "hovertemplate": "property_type=%{customdata[1]}<br>city=%{customdata[0]}<br>rent_FLOAT=%{x}<br>size_INT=%{y}<extra></extra>",
         "legendgroup": "House, Utrecht",
         "marker": {
          "color": "rgb(255,255,51)",
          "opacity": 0.5,
          "size": 4,
          "symbol": "square"
         },
         "mode": "markers",
         "name": "House, Utrecht",
         "orientation": "v",
         "showlegend": true,
         "type": "scatter",
         "x": [
          2750,
          350
         ],
         "xaxis": "x",
         "y": [
          null,
          null
         ],
         "yaxis": "y"
        }
       ],
       "layout": {
        "height": 500,
        "legend": {
         "title": {
          "text": "property_type, city"
         },
         "tracegroupgap": 0
        },
        "template": {
         "data": {
          "bar": [
           {
            "error_x": {
             "color": "#2a3f5f"
            },
            "error_y": {
             "color": "#2a3f5f"
            },
            "marker": {
             "line": {
              "color": "#E5ECF6",
              "width": 0.5
             },
             "pattern": {
              "fillmode": "overlay",
              "size": 10,
              "solidity": 0.2
             }
            },
            "type": "bar"
           }
          ],
          "barpolar": [
           {
            "marker": {
             "line": {
              "color": "#E5ECF6",
              "width": 0.5
             },
             "pattern": {
              "fillmode": "overlay",
              "size": 10,
              "solidity": 0.2
             }
            },
            "type": "barpolar"
           }
          ],
          "carpet": [
           {
            "aaxis": {
             "endlinecolor": "#2a3f5f",
             "gridcolor": "white",
             "linecolor": "white",
             "minorgridcolor": "white",
             "startlinecolor": "#2a3f5f"
            },
            "baxis": {
             "endlinecolor": "#2a3f5f",
             "gridcolor": "white",
             "linecolor": "white",
             "minorgridcolor": "white",
             "startlinecolor": "#2a3f5f"
            },
            "type": "carpet"
           }
          ],
          "choropleth": [
           {
            "colorbar": {
             "outlinewidth": 0,
             "ticks": ""
            },
            "type": "choropleth"
           }
          ],
          "contour": [
           {
            "colorbar": {
             "outlinewidth": 0,
             "ticks": ""
            },
            "colorscale": [
             [
              0,
              "#0d0887"
             ],
             [
              0.1111111111111111,
              "#46039f"
             ],
             [
              0.2222222222222222,
              "#7201a8"
             ],
             [
              0.3333333333333333,
              "#9c179e"
             ],
             [
              0.4444444444444444,
              "#bd3786"
             ],
             [
              0.5555555555555556,
              "#d8576b"
             ],
             [
              0.6666666666666666,
              "#ed7953"
             ],
             [
              0.7777777777777778,
              "#fb9f3a"
             ],
             [
              0.8888888888888888,
              "#fdca26"
             ],
             [
              1,
              "#f0f921"
             ]
            ],
            "type": "contour"
           }
          ],
          "contourcarpet": [
           {
            "colorbar": {
             "outlinewidth": 0,
             "ticks": ""
            },
            "type": "contourcarpet"
           }
          ],
          "heatmap": [
           {
            "colorbar": {
             "outlinewidth": 0,
             "ticks": ""
            },
            "colorscale": [
             [
              0,
              "#0d0887"
             ],
             [
              0.1111111111111111,
              "#46039f"
             ],
             [
              0.2222222222222222,
              "#7201a8"
             ],
             [
              0.3333333333333333,
              "#9c179e"
             ],
             [
              0.4444444444444444,
              "#bd3786"
             ],
             [
              0.5555555555555556,
              "#d8576b"
             ],
             [
              0.6666666666666666,
              "#ed7953"
             ],
             [
              0.7777777777777778,
              "#fb9f3a"
             ],
             [
              0.8888888888888888,
              "#fdca26"
             ],
             [
              1,
              "#f0f921"
             ]
            ],
            "type": "heatmap"
           }
          ],
          "heatmapgl": [
           {
            "colorbar": {
             "outlinewidth": 0,
             "ticks": ""
            },
            "colorscale": [
             [
              0,
              "#0d0887"
             ],
             [
              0.1111111111111111,
              "#46039f"
             ],
             [
              0.2222222222222222,
              "#7201a8"
             ],
             [
              0.3333333333333333,
              "#9c179e"
             ],
             [
              0.4444444444444444,
              "#bd3786"
             ],
             [
              0.5555555555555556,
              "#d8576b"
             ],
             [
              0.6666666666666666,
              "#ed7953"
             ],
             [
              0.7777777777777778,
              "#fb9f3a"
             ],
             [
              0.8888888888888888,
              "#fdca26"
             ],
             [
              1,
              "#f0f921"
             ]
            ],
            "type": "heatmapgl"
           }
          ],
          "histogram": [
           {
            "marker": {
             "pattern": {
              "fillmode": "overlay",
              "size": 10,
              "solidity": 0.2
             }
            },
            "type": "histogram"
           }
          ],
          "histogram2d": [
           {
            "colorbar": {
             "outlinewidth": 0,
             "ticks": ""
            },
            "colorscale": [
             [
              0,
              "#0d0887"
             ],
             [
              0.1111111111111111,
              "#46039f"
             ],
             [
              0.2222222222222222,
              "#7201a8"
             ],
             [
              0.3333333333333333,
              "#9c179e"
             ],
             [
              0.4444444444444444,
              "#bd3786"
             ],
             [
              0.5555555555555556,
              "#d8576b"
             ],
             [
              0.6666666666666666,
              "#ed7953"
             ],
             [
              0.7777777777777778,
              "#fb9f3a"
             ],
             [
              0.8888888888888888,
              "#fdca26"
             ],
             [
              1,
              "#f0f921"
             ]
            ],
            "type": "histogram2d"
           }
          ],
          "histogram2dcontour": [
           {
            "colorbar": {
             "outlinewidth": 0,
             "ticks": ""
            },
            "colorscale": [
             [
              0,
              "#0d0887"
             ],
             [
              0.1111111111111111,
              "#46039f"
             ],
             [
              0.2222222222222222,
              "#7201a8"
             ],
             [
              0.3333333333333333,
              "#9c179e"
             ],
             [
              0.4444444444444444,
              "#bd3786"
             ],
             [
              0.5555555555555556,
              "#d8576b"
             ],
             [
              0.6666666666666666,
              "#ed7953"
             ],
             [
              0.7777777777777778,
              "#fb9f3a"
             ],
             [
              0.8888888888888888,
              "#fdca26"
             ],
             [
              1,
              "#f0f921"
             ]
            ],
            "type": "histogram2dcontour"
           }
          ],
          "mesh3d": [
           {
            "colorbar": {
             "outlinewidth": 0,
             "ticks": ""
            },
            "type": "mesh3d"
           }
          ],
          "parcoords": [
           {
            "line": {
             "colorbar": {
              "outlinewidth": 0,
              "ticks": ""
             }
            },
            "type": "parcoords"
           }
          ],
          "pie": [
           {
            "automargin": true,
            "type": "pie"
           }
          ],
          "scatter": [
           {
            "fillpattern": {
             "fillmode": "overlay",
             "size": 10,
             "solidity": 0.2
            },
            "type": "scatter"
           }
          ],
          "scatter3d": [
           {
            "line": {
             "colorbar": {
              "outlinewidth": 0,
              "ticks": ""
             }
            },
            "marker": {
             "colorbar": {
              "outlinewidth": 0,
              "ticks": ""
             }
            },
            "type": "scatter3d"
           }
          ],
          "scattercarpet": [
           {
            "marker": {
             "colorbar": {
              "outlinewidth": 0,
              "ticks": ""
             }
            },
            "type": "scattercarpet"
           }
          ],
          "scattergeo": [
           {
            "marker": {
             "colorbar": {
              "outlinewidth": 0,
              "ticks": ""
             }
            },
            "type": "scattergeo"
           }
          ],
          "scattergl": [
           {
            "marker": {
             "colorbar": {
              "outlinewidth": 0,
              "ticks": ""
             }
            },
            "type": "scattergl"
           }
          ],
          "scattermapbox": [
           {
            "marker": {
             "colorbar": {
              "outlinewidth": 0,
              "ticks": ""
             }
            },
            "type": "scattermapbox"
           }
          ],
          "scatterpolar": [
           {
            "marker": {
             "colorbar": {
              "outlinewidth": 0,
              "ticks": ""
             }
            },
            "type": "scatterpolar"
           }
          ],
          "scatterpolargl": [
           {
            "marker": {
             "colorbar": {
              "outlinewidth": 0,
              "ticks": ""
             }
            },
            "type": "scatterpolargl"
           }
          ],
          "scatterternary": [
           {
            "marker": {
             "colorbar": {
              "outlinewidth": 0,
              "ticks": ""
             }
            },
            "type": "scatterternary"
           }
          ],
          "surface": [
           {
            "colorbar": {
             "outlinewidth": 0,
             "ticks": ""
            },
            "colorscale": [
             [
              0,
              "#0d0887"
             ],
             [
              0.1111111111111111,
              "#46039f"
             ],
             [
              0.2222222222222222,
              "#7201a8"
             ],
             [
              0.3333333333333333,
              "#9c179e"
             ],
             [
              0.4444444444444444,
              "#bd3786"
             ],
             [
              0.5555555555555556,
              "#d8576b"
             ],
             [
              0.6666666666666666,
              "#ed7953"
             ],
             [
              0.7777777777777778,
              "#fb9f3a"
             ],
             [
              0.8888888888888888,
              "#fdca26"
             ],
             [
              1,
              "#f0f921"
             ]
            ],
            "type": "surface"
           }
          ],
          "table": [
           {
            "cells": {
             "fill": {
              "color": "#EBF0F8"
             },
             "line": {
              "color": "white"
             }
            },
            "header": {
             "fill": {
              "color": "#C8D4E3"
             },
             "line": {
              "color": "white"
             }
            },
            "type": "table"
           }
          ]
         },
         "layout": {
          "annotationdefaults": {
           "arrowcolor": "#2a3f5f",
           "arrowhead": 0,
           "arrowwidth": 1
          },
          "autotypenumbers": "strict",
          "coloraxis": {
           "colorbar": {
            "outlinewidth": 0,
            "ticks": ""
           }
          },
          "colorscale": {
           "diverging": [
            [
             0,
             "#8e0152"
            ],
            [
             0.1,
             "#c51b7d"
            ],
            [
             0.2,
             "#de77ae"
            ],
            [
             0.3,
             "#f1b6da"
            ],
            [
             0.4,
             "#fde0ef"
            ],
            [
             0.5,
             "#f7f7f7"
            ],
            [
             0.6,
             "#e6f5d0"
            ],
            [
             0.7,
             "#b8e186"
            ],
            [
             0.8,
             "#7fbc41"
            ],
            [
             0.9,
             "#4d9221"
            ],
            [
             1,
             "#276419"
            ]
           ],
           "sequential": [
            [
             0,
             "#0d0887"
            ],
            [
             0.1111111111111111,
             "#46039f"
            ],
            [
             0.2222222222222222,
             "#7201a8"
            ],
            [
             0.3333333333333333,
             "#9c179e"
            ],
            [
             0.4444444444444444,
             "#bd3786"
            ],
            [
             0.5555555555555556,
             "#d8576b"
            ],
            [
             0.6666666666666666,
             "#ed7953"
            ],
            [
             0.7777777777777778,
             "#fb9f3a"
            ],
            [
             0.8888888888888888,
             "#fdca26"
            ],
            [
             1,
             "#f0f921"
            ]
           ],
           "sequentialminus": [
            [
             0,
             "#0d0887"
            ],
            [
             0.1111111111111111,
             "#46039f"
            ],
            [
             0.2222222222222222,
             "#7201a8"
            ],
            [
             0.3333333333333333,
             "#9c179e"
            ],
            [
             0.4444444444444444,
             "#bd3786"
            ],
            [
             0.5555555555555556,
             "#d8576b"
            ],
            [
             0.6666666666666666,
             "#ed7953"
            ],
            [
             0.7777777777777778,
             "#fb9f3a"
            ],
            [
             0.8888888888888888,
             "#fdca26"
            ],
            [
             1,
             "#f0f921"
            ]
           ]
          },
          "colorway": [
           "#636efa",
           "#EF553B",
           "#00cc96",
           "#ab63fa",
           "#FFA15A",
           "#19d3f3",
           "#FF6692",
           "#B6E880",
           "#FF97FF",
           "#FECB52"
          ],
          "font": {
           "color": "#2a3f5f"
          },
          "geo": {
           "bgcolor": "white",
           "lakecolor": "white",
           "landcolor": "#E5ECF6",
           "showlakes": true,
           "showland": true,
           "subunitcolor": "white"
          },
          "hoverlabel": {
           "align": "left"
          },
          "hovermode": "closest",
          "mapbox": {
           "style": "light"
          },
          "paper_bgcolor": "white",
          "plot_bgcolor": "#E5ECF6",
          "polar": {
           "angularaxis": {
            "gridcolor": "white",
            "linecolor": "white",
            "ticks": ""
           },
           "bgcolor": "#E5ECF6",
           "radialaxis": {
            "gridcolor": "white",
            "linecolor": "white",
            "ticks": ""
           }
          },
          "scene": {
           "xaxis": {
            "backgroundcolor": "#E5ECF6",
            "gridcolor": "white",
            "gridwidth": 2,
            "linecolor": "white",
            "showbackground": true,
            "ticks": "",
            "zerolinecolor": "white"
           },
           "yaxis": {
            "backgroundcolor": "#E5ECF6",
            "gridcolor": "white",
            "gridwidth": 2,
            "linecolor": "white",
            "showbackground": true,
            "ticks": "",
            "zerolinecolor": "white"
           },
           "zaxis": {
            "backgroundcolor": "#E5ECF6",
            "gridcolor": "white",
            "gridwidth": 2,
            "linecolor": "white",
            "showbackground": true,
            "ticks": "",
            "zerolinecolor": "white"
           }
          },
          "shapedefaults": {
           "line": {
            "color": "#2a3f5f"
           }
          },
          "ternary": {
           "aaxis": {
            "gridcolor": "white",
            "linecolor": "white",
            "ticks": ""
           },
           "baxis": {
            "gridcolor": "white",
            "linecolor": "white",
            "ticks": ""
           },
           "bgcolor": "#E5ECF6",
           "caxis": {
            "gridcolor": "white",
            "linecolor": "white",
            "ticks": ""
           }
          },
          "title": {
           "x": 0.05
          },
          "xaxis": {
           "automargin": true,
           "gridcolor": "white",
           "linecolor": "white",
           "ticks": "",
           "title": {
            "standoff": 15
           },
           "zerolinecolor": "white",
           "zerolinewidth": 2
          },
          "yaxis": {
           "automargin": true,
           "gridcolor": "white",
           "linecolor": "white",
           "ticks": "",
           "title": {
            "standoff": 15
           },
           "zerolinecolor": "white",
           "zerolinewidth": 2
          }
         }
        },
        "title": {
         "text": "Interactive Scatter Plot of Rent vs. Size"
        },
        "width": 800,
        "xaxis": {
         "anchor": "y",
         "domain": [
          0,
          1
         ],
         "dtick": 500,
         "range": [
          0,
          10000
         ],
         "tick0": 0,
         "tickmode": "linear",
         "title": {
          "text": "Monthly Rent (€)"
         }
        },
        "yaxis": {
         "anchor": "x",
         "domain": [
          0,
          1
         ],
         "dtick": 50,
         "range": [
          0,
          400
         ],
         "tick0": 0,
         "tickmode": "linear",
         "title": {
          "text": "Property Size (m²)"
         }
        }
       }
      }
     },
     "metadata": {},
     "output_type": "display_data"
    }
   ],
   "source": [
    "import plotly.express as px\n",
    "\n",
    "fig = px.scatter(\n",
    "    df,\n",
    "    x=\"rent_FLOAT\",\n",
    "    y=\"size_INT\",\n",
    "    color=\"property_type\",\n",
    "    symbol=\"city\",\n",
    "    hover_data=[\"city\", \"property_type\"],\n",
    "    title=\"Interactive Scatter Plot of Rent vs. Size\",\n",
    "    opacity=0.5,\n",
    "    size_max=5,  # Smaller marker size\n",
    "    color_discrete_sequence=px.colors.qualitative.Set1\n",
    ")\n",
    "fig.update_traces(marker=dict(size=4))  # Set smaller size explicitly\n",
    "\n",
    "fig.update_layout(\n",
    "    xaxis=dict(\n",
    "        title=\"Monthly Rent (€)\",\n",
    "        tickmode='linear',\n",
    "        tick0=0,\n",
    "        dtick=500,\n",
    "        range=[0, 10000]\n",
    "    ),\n",
    "    yaxis=dict(\n",
    "        title=\"Property Size (m²)\",\n",
    "        tickmode='linear',\n",
    "        tick0=0,\n",
    "        dtick=50,\n",
    "        range=[0, 400]\n",
    "    ),\n",
    "    width=800,\n",
    "    height=500\n",
    ")"
   ]
  }
 ],
 "metadata": {
  "kernelspec": {
   "display_name": "env",
   "language": "python",
   "name": "python3"
  },
  "language_info": {
   "codemirror_mode": {
    "name": "ipython",
    "version": 3
   },
   "file_extension": ".py",
   "mimetype": "text/x-python",
   "name": "python",
   "nbconvert_exporter": "python",
   "pygments_lexer": "ipython3",
   "version": "3.10.12"
  }
 },
 "nbformat": 4,
 "nbformat_minor": 2
}
